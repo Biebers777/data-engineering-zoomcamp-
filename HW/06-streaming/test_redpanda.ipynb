{
 "cells": [
  {
   "cell_type": "code",
   "execution_count": 4,
   "id": "b8e09fe4-37d5-446c-a416-7fb275d58378",
   "metadata": {},
   "outputs": [
    {
     "name": "stdout",
     "output_type": "stream",
     "text": [
      "Sent: {'message: Hello, Redpanda!': 0}\n",
      "Sent: {'message: Hello, Redpanda!': 1}\n",
      "Sent: {'message: Hello, Redpanda!': 2}\n",
      "Sent: {'message: Hello, Redpanda!': 3}\n",
      "Sent: {'message: Hello, Redpanda!': 4}\n",
      "Sent: {'message: Hello, Redpanda!': 5}\n",
      "Sent: {'message: Hello, Redpanda!': 6}\n",
      "Sent: {'message: Hello, Redpanda!': 7}\n",
      "Sent: {'message: Hello, Redpanda!': 8}\n",
      "Sent: {'message: Hello, Redpanda!': 9}\n",
      "took 30.03 seconds\n",
      "total records published 10\n"
     ]
    }
   ],
   "source": [
    "import json\n",
    "import time\n",
    "\n",
    "from kafka import KafkaProducer\n",
    "\n",
    "def json_serializer(data):\n",
    "    return json.dumps(data).encode('utf-8')\n",
    "\n",
    "server = 'redpanda-1:9092'\n",
    "\n",
    "producer = KafkaProducer(\n",
    "    bootstrap_servers=[server],\n",
    "    value_serializer=json_serializer\n",
    ")\n",
    "\n",
    "producer.bootstrap_connected()\n",
    "\n",
    "t0 = time.time()\n",
    "count = 0\n",
    "topic_name = 'test-topic'\n",
    "\n",
    "for i in range(10):\n",
    "    message =  {'message: Hello, Redpanda!':i}\n",
    "    producer.send(topic_name, value=message)\n",
    "    print(f\"Sent: {message}\")\n",
    "    time.sleep(0.05)\n",
    "    count=count+1\n",
    "\n",
    "producer.flush()\n",
    "\n",
    "# Consume messages\n",
    "# for message in consumer:\n",
    "#     print(message.value)\n",
    "    \n",
    "t1 = time.time()\n",
    "print(f'took {(t1 - t0):.2f} seconds')\n",
    "\n",
    "print('total records published', count)"
   ]
  },
  {
   "cell_type": "code",
   "execution_count": null,
   "id": "40cc4104-e159-4d33-91b0-55ed3cfae28c",
   "metadata": {},
   "outputs": [],
   "source": []
  }
 ],
 "metadata": {
  "kernelspec": {
   "display_name": "Python 3 (ipykernel)",
   "language": "python",
   "name": "python3"
  },
  "language_info": {
   "codemirror_mode": {
    "name": "ipython",
    "version": 3
   },
   "file_extension": ".py",
   "mimetype": "text/x-python",
   "name": "python",
   "nbconvert_exporter": "python",
   "pygments_lexer": "ipython3",
   "version": "3.11.6"
  }
 },
 "nbformat": 4,
 "nbformat_minor": 5
}
