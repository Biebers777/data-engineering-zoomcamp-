{
  "cells": [
    {
      "cell_type": "code",
      "execution_count": null,
      "metadata": {
        "colab": {
          "base_uri": "https://localhost:8080/"
        },
        "id": "W4mL5XsxCi5t",
        "outputId": "a343c2c9-795d-421c-e720-bc40d9ae702e"
      },
      "outputs": [],
      "source": [
        "import pandas as pd\n",
        "from google.colab import auth\n",
        "\n",
        "auth.authenticate_user()\n",
        "\n",
        "#set your project ID \n",
        "project_id = <project id>\n",
        "\n",
        "#set your bucket name \n",
        "bucket_name = <bucket_name>\n",
        "\n",
        "!gcloud config set project {project_id}\n",
        "!gsutil ls"
      ]
    },
    {
      "cell_type": "code",
      "execution_count": 15,
      "metadata": {
        "id": "dxtYR0wnB0k-"
      },
      "outputs": [],
      "source": [
        "url = 'https://d37ci6vzurychx.cloudfront.net/trip-data/'\n",
        "\n",
        "\n",
        "def upload_to_gcs(year: int, service: str) -> None:\n",
        "  \"\"\" This will download files on colab and upload it to gcs\"\"\"\n",
        "\n",
        "  for month in range(1,13):\n",
        "    filename = f\"{service}_tripdata_{year}-{month:02}.parquet\"\n",
        "    print(filename)\n",
        "    data = pd.read_parquet(url + filename)\n",
        "    #print('data loading success')\n",
        "    data.to_parquet(filename)\n",
        "\n",
        "    !gsutil -m cp {filename} gs://{bucket_name}/{service}/\n",
        "    print(f\"{month:02}-{year}: successfully uploaded {filename} to path\")"
      ]
    },
    {
      "cell_type": "code",
      "execution_count": null,
      "metadata": {
        "colab": {
          "base_uri": "https://localhost:8080/"
        },
        "id": "_3Oc60vPIQkD",
        "outputId": "a11cbd2b-3c73-4c01-e8c4-0970e995f626"
      },
      "outputs": [],
      "source": [
        "years = [2019, 2020]\n",
        "service = ['green', 'yellow']\n",
        "\n",
        "for type in service:\n",
        "  for year in years:\n",
        "    upload_to_gcs(year, type)"
      ]
    },
    {
      "cell_type": "code",
      "execution_count": null,
      "metadata": {
        "id": "7ZLIY6TwJ2yw"
      },
      "outputs": [],
      "source": []
    }
  ],
  "metadata": {
    "colab": {
      "provenance": []
    },
    "kernelspec": {
      "display_name": "Python 3",
      "language": "python",
      "name": "python3"
    },
    "language_info": {
      "name": "python",
      "version": "3.10.6"
    },
    "vscode": {
      "interpreter": {
        "hash": "31f2aee4e71d21fbe5cf8b01ff0e069b9275f58929596ceb00d14d90e3e16cd6"
      }
    }
  },
  "nbformat": 4,
  "nbformat_minor": 0
}
