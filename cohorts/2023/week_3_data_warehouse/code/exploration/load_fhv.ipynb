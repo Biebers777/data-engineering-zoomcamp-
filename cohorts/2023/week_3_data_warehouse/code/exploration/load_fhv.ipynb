{
 "cells": [
  {
   "cell_type": "markdown",
   "id": "84582838-6795-46ae-a5de-ded5c977028d",
   "metadata": {},
   "source": [
    "### A little inspection and of loading fhv data and encoding issues encountered along the way\n"
   ]
  },
  {
   "cell_type": "code",
   "execution_count": 2,
   "id": "c907d49f-2d8c-44f2-bba6-8fb180d35ca7",
   "metadata": {},
   "outputs": [],
   "source": [
    "import pandas as pd"
   ]
  },
  {
   "cell_type": "code",
   "execution_count": 10,
   "id": "b4b1cb2b-602b-4955-88a7-ddd3ab16b827",
   "metadata": {},
   "outputs": [
    {
     "data": {
      "text/plain": "        dispatching_base_num      pickup_datetime     dropoff_datetime  \\\n0                     B00013  2020-02-01 00:48:10  2020-02-01 01:34:36   \n1                     B00013  2020-02-01 00:35:50  2020-02-01 01:18:05   \n2                     B00014  2020-02-01 00:57:13  2020-02-01 01:10:06   \n3                     B00014  2020-02-01 00:19:21  2020-02-01 01:04:40   \n4                     B00014  2020-02-01 00:44:34  2020-02-01 00:57:04   \n...                      ...                  ...                  ...   \n1910152               B03284  2020-02-29 23:12:03  2020-03-01 00:38:01   \n1910153               B03284  2020-02-29 23:30:44  2020-02-29 23:34:27   \n1910154               B03284  2020-02-29 23:39:55  2020-02-29 23:44:03   \n1910155               B03284  2020-02-29 23:22:23  2020-02-29 23:51:03   \n1910156               B03284  2020-02-29 23:08:41  2020-02-29 23:29:02   \n\n         PULocationID  DOLocationID  SR_Flag Affiliated_base_number  \n0               264.0         264.0      NaN                 B00013  \n1               264.0         264.0      NaN                 B00013  \n2               264.0         264.0      NaN                 B00014  \n3               264.0         264.0      NaN                 B00014  \n4               264.0         264.0      NaN                 B00014  \n...               ...           ...      ...                    ...  \n1910152          48.0          39.0      NaN                    NaN  \n1910153          71.0          71.0      NaN                    NaN  \n1910154          71.0          71.0      NaN                    NaN  \n1910155         197.0          22.0      NaN                    NaN  \n1910156          41.0         168.0      NaN                    NaN  \n\n[1910157 rows x 7 columns]",
      "text/html": "<div>\n<style scoped>\n    .dataframe tbody tr th:only-of-type {\n        vertical-align: middle;\n    }\n\n    .dataframe tbody tr th {\n        vertical-align: top;\n    }\n\n    .dataframe thead th {\n        text-align: right;\n    }\n</style>\n<table border=\"1\" class=\"dataframe\">\n  <thead>\n    <tr style=\"text-align: right;\">\n      <th></th>\n      <th>dispatching_base_num</th>\n      <th>pickup_datetime</th>\n      <th>dropoff_datetime</th>\n      <th>PULocationID</th>\n      <th>DOLocationID</th>\n      <th>SR_Flag</th>\n      <th>Affiliated_base_number</th>\n    </tr>\n  </thead>\n  <tbody>\n    <tr>\n      <th>0</th>\n      <td>B00013</td>\n      <td>2020-02-01 00:48:10</td>\n      <td>2020-02-01 01:34:36</td>\n      <td>264.0</td>\n      <td>264.0</td>\n      <td>NaN</td>\n      <td>B00013</td>\n    </tr>\n    <tr>\n      <th>1</th>\n      <td>B00013</td>\n      <td>2020-02-01 00:35:50</td>\n      <td>2020-02-01 01:18:05</td>\n      <td>264.0</td>\n      <td>264.0</td>\n      <td>NaN</td>\n      <td>B00013</td>\n    </tr>\n    <tr>\n      <th>2</th>\n      <td>B00014</td>\n      <td>2020-02-01 00:57:13</td>\n      <td>2020-02-01 01:10:06</td>\n      <td>264.0</td>\n      <td>264.0</td>\n      <td>NaN</td>\n      <td>B00014</td>\n    </tr>\n    <tr>\n      <th>3</th>\n      <td>B00014</td>\n      <td>2020-02-01 00:19:21</td>\n      <td>2020-02-01 01:04:40</td>\n      <td>264.0</td>\n      <td>264.0</td>\n      <td>NaN</td>\n      <td>B00014</td>\n    </tr>\n    <tr>\n      <th>4</th>\n      <td>B00014</td>\n      <td>2020-02-01 00:44:34</td>\n      <td>2020-02-01 00:57:04</td>\n      <td>264.0</td>\n      <td>264.0</td>\n      <td>NaN</td>\n      <td>B00014</td>\n    </tr>\n    <tr>\n      <th>...</th>\n      <td>...</td>\n      <td>...</td>\n      <td>...</td>\n      <td>...</td>\n      <td>...</td>\n      <td>...</td>\n      <td>...</td>\n    </tr>\n    <tr>\n      <th>1910152</th>\n      <td>B03284</td>\n      <td>2020-02-29 23:12:03</td>\n      <td>2020-03-01 00:38:01</td>\n      <td>48.0</td>\n      <td>39.0</td>\n      <td>NaN</td>\n      <td>NaN</td>\n    </tr>\n    <tr>\n      <th>1910153</th>\n      <td>B03284</td>\n      <td>2020-02-29 23:30:44</td>\n      <td>2020-02-29 23:34:27</td>\n      <td>71.0</td>\n      <td>71.0</td>\n      <td>NaN</td>\n      <td>NaN</td>\n    </tr>\n    <tr>\n      <th>1910154</th>\n      <td>B03284</td>\n      <td>2020-02-29 23:39:55</td>\n      <td>2020-02-29 23:44:03</td>\n      <td>71.0</td>\n      <td>71.0</td>\n      <td>NaN</td>\n      <td>NaN</td>\n    </tr>\n    <tr>\n      <th>1910155</th>\n      <td>B03284</td>\n      <td>2020-02-29 23:22:23</td>\n      <td>2020-02-29 23:51:03</td>\n      <td>197.0</td>\n      <td>22.0</td>\n      <td>NaN</td>\n      <td>NaN</td>\n    </tr>\n    <tr>\n      <th>1910156</th>\n      <td>B03284</td>\n      <td>2020-02-29 23:08:41</td>\n      <td>2020-02-29 23:29:02</td>\n      <td>41.0</td>\n      <td>168.0</td>\n      <td>NaN</td>\n      <td>NaN</td>\n    </tr>\n  </tbody>\n</table>\n<p>1910157 rows × 7 columns</p>\n</div>"
     },
     "execution_count": 10,
     "metadata": {},
     "output_type": "execute_result"
    }
   ],
   "source": [
    "#df= pd.read_csv(\"https://github.com/DataTalksClub/nyc-tlc-data/releases/download/fhv/fhv_tripdata_2020-01.csv.gz\", encoding='iso-8859-1')\n",
    "df= pd.read_csv(\"https://github.com/DataTalksClub/nyc-tlc-data/releases/download/fhv/fhv_tripdata_2020-02.csv.gz\", encoding='latin1')\n",
    "df"
   ]
  }
 ],
 "metadata": {
  "kernelspec": {
   "display_name": "base",
   "language": "python",
   "name": "python3"
  },
  "language_info": {
   "codemirror_mode": {
    "name": "ipython",
    "version": 3
   },
   "file_extension": ".py",
   "mimetype": "text/x-python",
   "name": "python",
   "nbconvert_exporter": "python",
   "pygments_lexer": "ipython3",
   "version": "3.10.8"
  },
  "vscode": {
   "interpreter": {
    "hash": "bdb908cc57355dbb5a003d7838c8989df6128b2109ab46b289dd5188981510ed"
   }
  }
 },
 "nbformat": 4,
 "nbformat_minor": 5
}
