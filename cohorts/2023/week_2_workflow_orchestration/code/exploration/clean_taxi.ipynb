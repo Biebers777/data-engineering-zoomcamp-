{
 "cells": [
  {
   "cell_type": "markdown",
   "id": "84582838-6795-46ae-a5de-ded5c977028d",
   "metadata": {},
   "source": [
    "### A little inspection and cleanup of taxi data\n",
    "\n",
    "Jeff Hale"
   ]
  },
  {
   "cell_type": "code",
   "execution_count": 1,
   "id": "c907d49f-2d8c-44f2-bba6-8fb180d35ca7",
   "metadata": {},
   "outputs": [],
   "source": [
    "import pandas as pd"
   ]
  },
  {
   "cell_type": "code",
   "execution_count": 2,
   "id": "b4b1cb2b-602b-4955-88a7-ddd3ab16b827",
   "metadata": {},
   "outputs": [
    {
     "name": "stderr",
     "output_type": "stream",
     "text": [
      "/tmp/ipykernel_97458/3321978667.py:1: DtypeWarning: Columns (6) have mixed types. Specify dtype option on import or set low_memory=False.\n",
      "  df= pd.read_csv(\"https://github.com/DataTalksClub/nyc-tlc-data/releases/download/yellow/yellow_tripdata_2021-01.csv.gz\")\n"
     ]
    },
    {
     "data": {
      "text/plain": "         VendorID tpep_pickup_datetime tpep_dropoff_datetime  passenger_count  \\\n0             1.0  2021-01-01 00:30:10   2021-01-01 00:36:12              1.0   \n1             1.0  2021-01-01 00:51:20   2021-01-01 00:52:19              1.0   \n2             1.0  2021-01-01 00:43:30   2021-01-01 01:11:06              1.0   \n3             1.0  2021-01-01 00:15:48   2021-01-01 00:31:01              0.0   \n4             2.0  2021-01-01 00:31:49   2021-01-01 00:48:21              1.0   \n...           ...                  ...                   ...              ...   \n1369760       NaN  2021-01-25 08:32:04   2021-01-25 08:49:32              NaN   \n1369761       NaN  2021-01-25 08:34:00   2021-01-25 09:04:00              NaN   \n1369762       NaN  2021-01-25 08:37:00   2021-01-25 08:53:00              NaN   \n1369763       NaN  2021-01-25 08:28:00   2021-01-25 08:50:00              NaN   \n1369764       NaN  2021-01-25 08:38:00   2021-01-25 08:50:00              NaN   \n\n         trip_distance  RatecodeID store_and_fwd_flag  PULocationID  \\\n0                 2.10         1.0                  N           142   \n1                 0.20         1.0                  N           238   \n2                14.70         1.0                  N           132   \n3                10.60         1.0                  N           138   \n4                 4.94         1.0                  N            68   \n...                ...         ...                ...           ...   \n1369760           8.80         NaN                NaN           135   \n1369761           5.86         NaN                NaN            42   \n1369762           4.45         NaN                NaN            14   \n1369763          10.04         NaN                NaN           175   \n1369764           4.93         NaN                NaN           248   \n\n         DOLocationID  payment_type  fare_amount  extra  mta_tax  tip_amount  \\\n0                  43           2.0         8.00   3.00      0.5        0.00   \n1                 151           2.0         3.00   0.50      0.5        0.00   \n2                 165           1.0        42.00   0.50      0.5        8.65   \n3                 132           1.0        29.00   0.50      0.5        6.05   \n4                  33           1.0        16.50   0.50      0.5        4.06   \n...               ...           ...          ...    ...      ...         ...   \n1369760            82           NaN        21.84   2.75      0.5        0.00   \n1369761           161           NaN        26.67   2.75      0.5        0.00   \n1369762           106           NaN        25.29   2.75      0.5        0.00   \n1369763           216           NaN        28.24   2.75      0.5        0.00   \n1369764           168           NaN        20.76   2.75      0.5        0.00   \n\n         tolls_amount  improvement_surcharge  total_amount  \\\n0                 0.0                    0.3         11.80   \n1                 0.0                    0.3          4.30   \n2                 0.0                    0.3         51.95   \n3                 0.0                    0.3         36.35   \n4                 0.0                    0.3         24.36   \n...               ...                    ...           ...   \n1369760           0.0                    0.3         25.39   \n1369761           0.0                    0.3         30.22   \n1369762           0.0                    0.3         28.84   \n1369763           0.0                    0.3         31.79   \n1369764           0.0                    0.3         24.31   \n\n         congestion_surcharge  \n0                         2.5  \n1                         0.0  \n2                         0.0  \n3                         0.0  \n4                         2.5  \n...                       ...  \n1369760                   0.0  \n1369761                   0.0  \n1369762                   0.0  \n1369763                   0.0  \n1369764                   0.0  \n\n[1369765 rows x 18 columns]",
      "text/html": "<div>\n<style scoped>\n    .dataframe tbody tr th:only-of-type {\n        vertical-align: middle;\n    }\n\n    .dataframe tbody tr th {\n        vertical-align: top;\n    }\n\n    .dataframe thead th {\n        text-align: right;\n    }\n</style>\n<table border=\"1\" class=\"dataframe\">\n  <thead>\n    <tr style=\"text-align: right;\">\n      <th></th>\n      <th>VendorID</th>\n      <th>tpep_pickup_datetime</th>\n      <th>tpep_dropoff_datetime</th>\n      <th>passenger_count</th>\n      <th>trip_distance</th>\n      <th>RatecodeID</th>\n      <th>store_and_fwd_flag</th>\n      <th>PULocationID</th>\n      <th>DOLocationID</th>\n      <th>payment_type</th>\n      <th>fare_amount</th>\n      <th>extra</th>\n      <th>mta_tax</th>\n      <th>tip_amount</th>\n      <th>tolls_amount</th>\n      <th>improvement_surcharge</th>\n      <th>total_amount</th>\n      <th>congestion_surcharge</th>\n    </tr>\n  </thead>\n  <tbody>\n    <tr>\n      <th>0</th>\n      <td>1.0</td>\n      <td>2021-01-01 00:30:10</td>\n      <td>2021-01-01 00:36:12</td>\n      <td>1.0</td>\n      <td>2.10</td>\n      <td>1.0</td>\n      <td>N</td>\n      <td>142</td>\n      <td>43</td>\n      <td>2.0</td>\n      <td>8.00</td>\n      <td>3.00</td>\n      <td>0.5</td>\n      <td>0.00</td>\n      <td>0.0</td>\n      <td>0.3</td>\n      <td>11.80</td>\n      <td>2.5</td>\n    </tr>\n    <tr>\n      <th>1</th>\n      <td>1.0</td>\n      <td>2021-01-01 00:51:20</td>\n      <td>2021-01-01 00:52:19</td>\n      <td>1.0</td>\n      <td>0.20</td>\n      <td>1.0</td>\n      <td>N</td>\n      <td>238</td>\n      <td>151</td>\n      <td>2.0</td>\n      <td>3.00</td>\n      <td>0.50</td>\n      <td>0.5</td>\n      <td>0.00</td>\n      <td>0.0</td>\n      <td>0.3</td>\n      <td>4.30</td>\n      <td>0.0</td>\n    </tr>\n    <tr>\n      <th>2</th>\n      <td>1.0</td>\n      <td>2021-01-01 00:43:30</td>\n      <td>2021-01-01 01:11:06</td>\n      <td>1.0</td>\n      <td>14.70</td>\n      <td>1.0</td>\n      <td>N</td>\n      <td>132</td>\n      <td>165</td>\n      <td>1.0</td>\n      <td>42.00</td>\n      <td>0.50</td>\n      <td>0.5</td>\n      <td>8.65</td>\n      <td>0.0</td>\n      <td>0.3</td>\n      <td>51.95</td>\n      <td>0.0</td>\n    </tr>\n    <tr>\n      <th>3</th>\n      <td>1.0</td>\n      <td>2021-01-01 00:15:48</td>\n      <td>2021-01-01 00:31:01</td>\n      <td>0.0</td>\n      <td>10.60</td>\n      <td>1.0</td>\n      <td>N</td>\n      <td>138</td>\n      <td>132</td>\n      <td>1.0</td>\n      <td>29.00</td>\n      <td>0.50</td>\n      <td>0.5</td>\n      <td>6.05</td>\n      <td>0.0</td>\n      <td>0.3</td>\n      <td>36.35</td>\n      <td>0.0</td>\n    </tr>\n    <tr>\n      <th>4</th>\n      <td>2.0</td>\n      <td>2021-01-01 00:31:49</td>\n      <td>2021-01-01 00:48:21</td>\n      <td>1.0</td>\n      <td>4.94</td>\n      <td>1.0</td>\n      <td>N</td>\n      <td>68</td>\n      <td>33</td>\n      <td>1.0</td>\n      <td>16.50</td>\n      <td>0.50</td>\n      <td>0.5</td>\n      <td>4.06</td>\n      <td>0.0</td>\n      <td>0.3</td>\n      <td>24.36</td>\n      <td>2.5</td>\n    </tr>\n    <tr>\n      <th>...</th>\n      <td>...</td>\n      <td>...</td>\n      <td>...</td>\n      <td>...</td>\n      <td>...</td>\n      <td>...</td>\n      <td>...</td>\n      <td>...</td>\n      <td>...</td>\n      <td>...</td>\n      <td>...</td>\n      <td>...</td>\n      <td>...</td>\n      <td>...</td>\n      <td>...</td>\n      <td>...</td>\n      <td>...</td>\n      <td>...</td>\n    </tr>\n    <tr>\n      <th>1369760</th>\n      <td>NaN</td>\n      <td>2021-01-25 08:32:04</td>\n      <td>2021-01-25 08:49:32</td>\n      <td>NaN</td>\n      <td>8.80</td>\n      <td>NaN</td>\n      <td>NaN</td>\n      <td>135</td>\n      <td>82</td>\n      <td>NaN</td>\n      <td>21.84</td>\n      <td>2.75</td>\n      <td>0.5</td>\n      <td>0.00</td>\n      <td>0.0</td>\n      <td>0.3</td>\n      <td>25.39</td>\n      <td>0.0</td>\n    </tr>\n    <tr>\n      <th>1369761</th>\n      <td>NaN</td>\n      <td>2021-01-25 08:34:00</td>\n      <td>2021-01-25 09:04:00</td>\n      <td>NaN</td>\n      <td>5.86</td>\n      <td>NaN</td>\n      <td>NaN</td>\n      <td>42</td>\n      <td>161</td>\n      <td>NaN</td>\n      <td>26.67</td>\n      <td>2.75</td>\n      <td>0.5</td>\n      <td>0.00</td>\n      <td>0.0</td>\n      <td>0.3</td>\n      <td>30.22</td>\n      <td>0.0</td>\n    </tr>\n    <tr>\n      <th>1369762</th>\n      <td>NaN</td>\n      <td>2021-01-25 08:37:00</td>\n      <td>2021-01-25 08:53:00</td>\n      <td>NaN</td>\n      <td>4.45</td>\n      <td>NaN</td>\n      <td>NaN</td>\n      <td>14</td>\n      <td>106</td>\n      <td>NaN</td>\n      <td>25.29</td>\n      <td>2.75</td>\n      <td>0.5</td>\n      <td>0.00</td>\n      <td>0.0</td>\n      <td>0.3</td>\n      <td>28.84</td>\n      <td>0.0</td>\n    </tr>\n    <tr>\n      <th>1369763</th>\n      <td>NaN</td>\n      <td>2021-01-25 08:28:00</td>\n      <td>2021-01-25 08:50:00</td>\n      <td>NaN</td>\n      <td>10.04</td>\n      <td>NaN</td>\n      <td>NaN</td>\n      <td>175</td>\n      <td>216</td>\n      <td>NaN</td>\n      <td>28.24</td>\n      <td>2.75</td>\n      <td>0.5</td>\n      <td>0.00</td>\n      <td>0.0</td>\n      <td>0.3</td>\n      <td>31.79</td>\n      <td>0.0</td>\n    </tr>\n    <tr>\n      <th>1369764</th>\n      <td>NaN</td>\n      <td>2021-01-25 08:38:00</td>\n      <td>2021-01-25 08:50:00</td>\n      <td>NaN</td>\n      <td>4.93</td>\n      <td>NaN</td>\n      <td>NaN</td>\n      <td>248</td>\n      <td>168</td>\n      <td>NaN</td>\n      <td>20.76</td>\n      <td>2.75</td>\n      <td>0.5</td>\n      <td>0.00</td>\n      <td>0.0</td>\n      <td>0.3</td>\n      <td>24.31</td>\n      <td>0.0</td>\n    </tr>\n  </tbody>\n</table>\n<p>1369765 rows × 18 columns</p>\n</div>"
     },
     "execution_count": 2,
     "metadata": {},
     "output_type": "execute_result"
    }
   ],
   "source": [
    "df= pd.read_csv(\"https://github.com/DataTalksClub/nyc-tlc-data/releases/download/yellow/yellow_tripdata_2021-01.csv.gz\")\n",
    "df"
   ]
  },
  {
   "cell_type": "code",
   "execution_count": 6,
   "outputs": [],
   "source": [
    "df.to_csv(\"yellow_tripdata_2021-01_noindex.csv.gz\", compression=\"gzip\", index=False)"
   ],
   "metadata": {
    "collapsed": false
   }
  },
  {
   "cell_type": "code",
   "execution_count": 4,
   "outputs": [],
   "source": [
    "df.to_csv(\"yellow_tripdata_2021-01_index.csv.gz\", compression=\"gzip\", index=True)\n"
   ],
   "metadata": {
    "collapsed": false
   }
  },
  {
   "cell_type": "code",
   "execution_count": 5,
   "outputs": [],
   "source": [
    "df.to_parquet(\"yellow_tripdata_2021-01_noindex.parquet\", compression=\"gzip\", index=False)\n"
   ],
   "metadata": {
    "collapsed": false
   }
  },
  {
   "cell_type": "code",
   "execution_count": 10,
   "outputs": [
    {
     "name": "stdout",
     "output_type": "stream",
     "text": [
      "{'dispatching_base_num': 'string', 'pickup_datetime': 'datetime64[ns]', 'dropOff_datetime': 'datetime64[ns]', 'PUlocationID': 'Int64', 'DOlocationID': 'Int64', 'SR_Flag': 'Int64', 'Affiliated_base_number': 'str'}\n"
     ]
    },
    {
     "data": {
      "text/plain": "{'dispatching_base_num': 'string',\n 'pickup_datetime': 'datetime64[ns]',\n 'dropoff_datetime': 'datetime64[ns]',\n 'pulocationid': 'Int64',\n 'dolocationid': 'Int64',\n 'sr_flag': 'Int64',\n 'affiliated_base_number': 'str'}"
     },
     "execution_count": 10,
     "metadata": {},
     "output_type": "execute_result"
    }
   ],
   "source": [
    "import yaml\n",
    "ff = '/home/michal/Projects/data-engineering-zoomcamp/cohorts/2023/week_2_workflow_orchestration/code/schemas/data_schemas.yaml'\n",
    "color = 'fhv'\n",
    "\n",
    "with open(ff, 'rb') as f:\n",
    "    color_schema = yaml.safe_load(f)[color]\n",
    "\n",
    "print(color_schema)\n",
    "\n",
    "color_schema_lower = {k.lower(): v for k, v in color_schema.items()}\n",
    "color_schema_lower\n",
    "\n"
   ],
   "metadata": {
    "collapsed": false
   }
  },
  {
   "cell_type": "markdown",
   "id": "581ea1ac",
   "metadata": {},
   "source": [
    "We should fix the mixed dtypes"
   ]
  },
  {
   "cell_type": "code",
   "execution_count": 50,
   "id": "d914321f-905e-45cc-9d8a-52b042831d30",
   "metadata": {},
   "outputs": [
    {
     "data": {
      "text/plain": [
       "VendorID                 float64\n",
       "tpep_pickup_datetime      object\n",
       "tpep_dropoff_datetime     object\n",
       "passenger_count          float64\n",
       "trip_distance            float64\n",
       "RatecodeID               float64\n",
       "store_and_fwd_flag        object\n",
       "PULocationID               int64\n",
       "DOLocationID               int64\n",
       "payment_type             float64\n",
       "fare_amount              float64\n",
       "extra                    float64\n",
       "mta_tax                  float64\n",
       "tip_amount               float64\n",
       "tolls_amount             float64\n",
       "improvement_surcharge    float64\n",
       "total_amount             float64\n",
       "congestion_surcharge     float64\n",
       "dtype: object"
      ]
     },
     "execution_count": 50,
     "metadata": {},
     "output_type": "execute_result"
    }
   ],
   "source": [
    "df.dtypes"
   ]
  },
  {
   "cell_type": "markdown",
   "id": "5fc5d820-26c5-457d-bd2e-188bfd1079d8",
   "metadata": {},
   "source": [
    "## Transforms\n",
    "### Change the date columns from string to datetime format"
   ]
  },
  {
   "cell_type": "code",
   "execution_count": 51,
   "id": "44e7577d-f544-4631-a910-3bed509a2b53",
   "metadata": {},
   "outputs": [
    {
     "data": {
      "text/plain": [
       "VendorID                        float64\n",
       "tpep_pickup_datetime     datetime64[ns]\n",
       "tpep_dropoff_datetime    datetime64[ns]\n",
       "passenger_count                 float64\n",
       "trip_distance                   float64\n",
       "RatecodeID                      float64\n",
       "store_and_fwd_flag               object\n",
       "PULocationID                      int64\n",
       "DOLocationID                      int64\n",
       "payment_type                    float64\n",
       "fare_amount                     float64\n",
       "extra                           float64\n",
       "mta_tax                         float64\n",
       "tip_amount                      float64\n",
       "tolls_amount                    float64\n",
       "improvement_surcharge           float64\n",
       "total_amount                    float64\n",
       "congestion_surcharge            float64\n",
       "dtype: object"
      ]
     },
     "execution_count": 51,
     "metadata": {},
     "output_type": "execute_result"
    }
   ],
   "source": [
    "df['tpep_pickup_datetime'] = pd.to_datetime(df['tpep_pickup_datetime'])\n",
    "df['tpep_dropoff_datetime'] = pd.to_datetime(df['tpep_dropoff_datetime'])\n",
    "df.dtypes"
   ]
  },
  {
   "cell_type": "code",
   "execution_count": 52,
   "id": "91e55c42-561a-4e0c-bea8-9150fe2d0200",
   "metadata": {},
   "outputs": [
    {
     "data": {
      "text/html": [
       "<div>\n",
       "<style scoped>\n",
       "    .dataframe tbody tr th:only-of-type {\n",
       "        vertical-align: middle;\n",
       "    }\n",
       "\n",
       "    .dataframe tbody tr th {\n",
       "        vertical-align: top;\n",
       "    }\n",
       "\n",
       "    .dataframe thead th {\n",
       "        text-align: right;\n",
       "    }\n",
       "</style>\n",
       "<table border=\"1\" class=\"dataframe\">\n",
       "  <thead>\n",
       "    <tr style=\"text-align: right;\">\n",
       "      <th></th>\n",
       "      <th>VendorID</th>\n",
       "      <th>tpep_pickup_datetime</th>\n",
       "      <th>tpep_dropoff_datetime</th>\n",
       "      <th>passenger_count</th>\n",
       "      <th>trip_distance</th>\n",
       "      <th>RatecodeID</th>\n",
       "      <th>store_and_fwd_flag</th>\n",
       "      <th>PULocationID</th>\n",
       "      <th>DOLocationID</th>\n",
       "      <th>payment_type</th>\n",
       "      <th>fare_amount</th>\n",
       "      <th>extra</th>\n",
       "      <th>mta_tax</th>\n",
       "      <th>tip_amount</th>\n",
       "      <th>tolls_amount</th>\n",
       "      <th>improvement_surcharge</th>\n",
       "      <th>total_amount</th>\n",
       "      <th>congestion_surcharge</th>\n",
       "    </tr>\n",
       "  </thead>\n",
       "  <tbody>\n",
       "    <tr>\n",
       "      <th>0</th>\n",
       "      <td>1.0</td>\n",
       "      <td>2021-06-01 00:13:26</td>\n",
       "      <td>2021-06-01 00:17:14</td>\n",
       "      <td>1.0</td>\n",
       "      <td>0.9</td>\n",
       "      <td>1.0</td>\n",
       "      <td>N</td>\n",
       "      <td>186</td>\n",
       "      <td>50</td>\n",
       "      <td>1.0</td>\n",
       "      <td>5.0</td>\n",
       "      <td>3.00</td>\n",
       "      <td>0.5</td>\n",
       "      <td>2.2</td>\n",
       "      <td>0.00</td>\n",
       "      <td>0.3</td>\n",
       "      <td>11.0</td>\n",
       "      <td>2.5</td>\n",
       "    </tr>\n",
       "    <tr>\n",
       "      <th>1</th>\n",
       "      <td>1.0</td>\n",
       "      <td>2021-06-01 00:32:23</td>\n",
       "      <td>2021-06-01 01:07:04</td>\n",
       "      <td>1.0</td>\n",
       "      <td>23.0</td>\n",
       "      <td>1.0</td>\n",
       "      <td>N</td>\n",
       "      <td>132</td>\n",
       "      <td>18</td>\n",
       "      <td>2.0</td>\n",
       "      <td>61.5</td>\n",
       "      <td>1.75</td>\n",
       "      <td>0.5</td>\n",
       "      <td>0.0</td>\n",
       "      <td>6.55</td>\n",
       "      <td>0.3</td>\n",
       "      <td>70.6</td>\n",
       "      <td>0.0</td>\n",
       "    </tr>\n",
       "  </tbody>\n",
       "</table>\n",
       "</div>"
      ],
      "text/plain": [
       "   VendorID tpep_pickup_datetime tpep_dropoff_datetime  passenger_count  \\\n",
       "0       1.0  2021-06-01 00:13:26   2021-06-01 00:17:14              1.0   \n",
       "1       1.0  2021-06-01 00:32:23   2021-06-01 01:07:04              1.0   \n",
       "\n",
       "   trip_distance  RatecodeID store_and_fwd_flag  PULocationID  DOLocationID  \\\n",
       "0            0.9         1.0                  N           186            50   \n",
       "1           23.0         1.0                  N           132            18   \n",
       "\n",
       "   payment_type  fare_amount  extra  mta_tax  tip_amount  tolls_amount  \\\n",
       "0           1.0          5.0   3.00      0.5         2.2          0.00   \n",
       "1           2.0         61.5   1.75      0.5         0.0          6.55   \n",
       "\n",
       "   improvement_surcharge  total_amount  congestion_surcharge  \n",
       "0                    0.3          11.0                   2.5  \n",
       "1                    0.3          70.6                   0.0  "
      ]
     },
     "execution_count": 52,
     "metadata": {},
     "output_type": "execute_result"
    }
   ],
   "source": [
    "df.head(2)"
   ]
  },
  {
   "cell_type": "markdown",
   "id": "a58fb673",
   "metadata": {},
   "source": [
    "Because there are missing values, pandas converts to a float. We could have specified we wanted nullable integer dtype, but float is fine."
   ]
  },
  {
   "cell_type": "markdown",
   "id": "6185d168-1006-48a8-9aa3-b451986173f8",
   "metadata": {},
   "source": [
    "### Write out cleaned file"
   ]
  },
  {
   "cell_type": "code",
   "execution_count": 14,
   "id": "38a43e21-f9b9-44e1-9e30-2aa25e432783",
   "metadata": {},
   "outputs": [],
   "source": [
    "df.to_parquet(\"2022-07_yellow_cleaned.parquet\", compression='gzip')"
   ]
  },
  {
   "cell_type": "markdown",
   "id": "757cf1fd",
   "metadata": {},
   "source": [
    "The end"
   ]
  },
  {
   "cell_type": "code",
   "execution_count": 1,
   "outputs": [
    {
     "data": {
      "text/plain": "'10eee6db0d16be4e024d96b8f33760398bc38677'"
     },
     "execution_count": 1,
     "metadata": {},
     "output_type": "execute_result"
    }
   ],
   "source": [
    "from hashlib import sha1\n",
    "\n",
    "def compute_hash(email):\n",
    "    return sha1(email.lower().encode('utf-8')).hexdigest()\n",
    "\n",
    "compute_hash(\"MGasiorowski82@gmail.com\")"
   ],
   "metadata": {
    "collapsed": false
   }
  }
 ],
 "metadata": {
  "kernelspec": {
   "display_name": "base",
   "language": "python",
   "name": "python3"
  },
  "language_info": {
   "codemirror_mode": {
    "name": "ipython",
    "version": 3
   },
   "file_extension": ".py",
   "mimetype": "text/x-python",
   "name": "python",
   "nbconvert_exporter": "python",
   "pygments_lexer": "ipython3",
   "version": "3.10.8"
  },
  "vscode": {
   "interpreter": {
    "hash": "bdb908cc57355dbb5a003d7838c8989df6128b2109ab46b289dd5188981510ed"
   }
  }
 },
 "nbformat": 4,
 "nbformat_minor": 5
}
