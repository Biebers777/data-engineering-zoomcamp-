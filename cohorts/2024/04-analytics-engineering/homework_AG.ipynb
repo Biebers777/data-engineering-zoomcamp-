{
 "cells": [
  {
   "cell_type": "markdown",
   "metadata": {},
   "source": [
    "# CREATING COMBINED PARQUET FILE: 2022"
   ]
  },
  {
   "cell_type": "code",
   "execution_count": 2,
   "metadata": {},
   "outputs": [],
   "source": [
    "import pandas as pd"
   ]
  },
  {
   "cell_type": "code",
   "execution_count": 8,
   "metadata": {},
   "outputs": [
    {
     "name": "stdout",
     "output_type": "stream",
     "text": [
      "fhv_tripdata_2019-01.parquet\n",
      "fhv_tripdata_2019-02.parquet\n",
      "fhv_tripdata_2019-03.parquet\n",
      "fhv_tripdata_2019-04.parquet\n",
      "fhv_tripdata_2019-05.parquet\n",
      "fhv_tripdata_2019-06.parquet\n",
      "fhv_tripdata_2019-07.parquet\n",
      "fhv_tripdata_2019-08.parquet\n",
      "fhv_tripdata_2019-09.parquet\n",
      "fhv_tripdata_2019-10.parquet\n",
      "fhv_tripdata_2019-11.parquet\n",
      "fhv_tripdata_2019-12.parquet\n"
     ]
    }
   ],
   "source": [
    "dfs = []\n",
    "\n",
    "for idx in range(12):\n",
    "  for year in ['2019', '2020']\n",
    "    print(f'fhv_tripdata_{year}-{idx + 1:02d}.parquet')\n",
    "\n",
    "    df = pd.read_parquet(f'../../../03-data-warehouse/extras/fhv_tripdata_{year}-{idx + 1:02d}.parquet')\n",
    "    dfs.append(df)\n",
    "\n",
    "result_df = pd.concat(dfs, ignore_index=True)    "
   ]
  },
  {
   "cell_type": "code",
   "execution_count": 11,
   "metadata": {},
   "outputs": [
    {
     "data": {
      "text/html": [
       "<div>\n",
       "<style scoped>\n",
       "    .dataframe tbody tr th:only-of-type {\n",
       "        vertical-align: middle;\n",
       "    }\n",
       "\n",
       "    .dataframe tbody tr th {\n",
       "        vertical-align: top;\n",
       "    }\n",
       "\n",
       "    .dataframe thead th {\n",
       "        text-align: right;\n",
       "    }\n",
       "</style>\n",
       "<table border=\"1\" class=\"dataframe\">\n",
       "  <thead>\n",
       "    <tr style=\"text-align: right;\">\n",
       "      <th></th>\n",
       "      <th>dispatching_base_num</th>\n",
       "      <th>pickup_datetime</th>\n",
       "      <th>dropOff_datetime</th>\n",
       "      <th>PUlocationID</th>\n",
       "      <th>DOlocationID</th>\n",
       "      <th>SR_Flag</th>\n",
       "      <th>Affiliated_base_number</th>\n",
       "    </tr>\n",
       "  </thead>\n",
       "  <tbody>\n",
       "    <tr>\n",
       "      <th>43244691</th>\n",
       "      <td>B03266</td>\n",
       "      <td>2019-12-31 23:22:10</td>\n",
       "      <td>2019-12-31 23:30:08</td>\n",
       "      <td>7.0</td>\n",
       "      <td>7.0</td>\n",
       "      <td>NaN</td>\n",
       "      <td>B03266</td>\n",
       "    </tr>\n",
       "    <tr>\n",
       "      <th>43244692</th>\n",
       "      <td>B03266</td>\n",
       "      <td>2019-12-31 23:37:41</td>\n",
       "      <td>2019-12-31 23:45:39</td>\n",
       "      <td>179.0</td>\n",
       "      <td>179.0</td>\n",
       "      <td>NaN</td>\n",
       "      <td>B03266</td>\n",
       "    </tr>\n",
       "    <tr>\n",
       "      <th>43244693</th>\n",
       "      <td>B03266</td>\n",
       "      <td>2019-12-31 23:54:59</td>\n",
       "      <td>2020-01-01 00:02:57</td>\n",
       "      <td>193.0</td>\n",
       "      <td>193.0</td>\n",
       "      <td>NaN</td>\n",
       "      <td>B03266</td>\n",
       "    </tr>\n",
       "    <tr>\n",
       "      <th>43244694</th>\n",
       "      <td>B03266</td>\n",
       "      <td>2019-12-31 23:43:05</td>\n",
       "      <td>2019-12-31 23:51:03</td>\n",
       "      <td>179.0</td>\n",
       "      <td>179.0</td>\n",
       "      <td>NaN</td>\n",
       "      <td>B03266</td>\n",
       "    </tr>\n",
       "    <tr>\n",
       "      <th>43244695</th>\n",
       "      <td>B03266</td>\n",
       "      <td>2019-12-31 23:55:01</td>\n",
       "      <td>2020-01-01 00:02:59</td>\n",
       "      <td>7.0</td>\n",
       "      <td>7.0</td>\n",
       "      <td>NaN</td>\n",
       "      <td>B03266</td>\n",
       "    </tr>\n",
       "  </tbody>\n",
       "</table>\n",
       "</div>"
      ],
      "text/plain": [
       "         dispatching_base_num      pickup_datetime     dropOff_datetime  \\\n",
       "43244691               B03266  2019-12-31 23:22:10  2019-12-31 23:30:08   \n",
       "43244692               B03266  2019-12-31 23:37:41  2019-12-31 23:45:39   \n",
       "43244693               B03266  2019-12-31 23:54:59  2020-01-01 00:02:57   \n",
       "43244694               B03266  2019-12-31 23:43:05  2019-12-31 23:51:03   \n",
       "43244695               B03266  2019-12-31 23:55:01  2020-01-01 00:02:59   \n",
       "\n",
       "          PUlocationID  DOlocationID  SR_Flag Affiliated_base_number  \n",
       "43244691           7.0           7.0      NaN                 B03266  \n",
       "43244692         179.0         179.0      NaN                 B03266  \n",
       "43244693         193.0         193.0      NaN                 B03266  \n",
       "43244694         179.0         179.0      NaN                 B03266  \n",
       "43244695           7.0           7.0      NaN                 B03266  "
      ]
     },
     "execution_count": 11,
     "metadata": {},
     "output_type": "execute_result"
    }
   ],
   "source": [
    "result_df.tail()"
   ]
  },
  {
   "cell_type": "code",
   "execution_count": 7,
   "metadata": {},
   "outputs": [],
   "source": [
    "result_df.to_parquet('./fhv_tripdata_2019.parquet')"
   ]
  },
  {
   "cell_type": "code",
   "execution_count": 3,
   "metadata": {},
   "outputs": [],
   "source": [
    "result_df = pd.read_parquet('./fhv_tripdata_2019.parquet')"
   ]
  },
  {
   "cell_type": "code",
   "execution_count": 4,
   "metadata": {},
   "outputs": [
    {
     "name": "stdout",
     "output_type": "stream",
     "text": [
      "<class 'pandas.core.frame.DataFrame'>\n",
      "RangeIndex: 43244696 entries, 0 to 43244695\n",
      "Data columns (total 7 columns):\n",
      " #   Column                  Dtype  \n",
      "---  ------                  -----  \n",
      " 0   dispatching_base_num    object \n",
      " 1   pickup_datetime         object \n",
      " 2   dropOff_datetime        object \n",
      " 3   PUlocationID            float64\n",
      " 4   DOlocationID            float64\n",
      " 5   SR_Flag                 float64\n",
      " 6   Affiliated_base_number  object \n",
      "dtypes: float64(3), object(4)\n",
      "memory usage: 2.3+ GB\n"
     ]
    }
   ],
   "source": [
    "result_df.info()"
   ]
  },
  {
   "cell_type": "markdown",
   "metadata": {},
   "source": [
    "# DUMP THIS PARQUET FILE IN GCP"
   ]
  },
  {
   "cell_type": "markdown",
   "metadata": {},
   "source": [
    "## BIG QUERY QUERIES"
   ]
  },
  {
   "cell_type": "markdown",
   "metadata": {},
   "source": [
    "```sql\n",
    "SELECT * FROM `ny-rides-de-zoomcamp-2024.nytaxi.external_green_taxi_2022` LIMIT 100;\n",
    "\n",
    "CREATE OR REPLACE TABLE `ny-rides-de-zoomcamp-2024.nytaxi.external_green_taxi_2022_nonpartitioned` AS\n",
    "SELECT * FROM `ny-rides-de-zoomcamp-2024.nytaxi.external_green_taxi_2022`;\n",
    "\n",
    "SELECT count(distinct(PULocationID))\n",
    "from `ny-rides-de-zoomcamp-2024.nytaxi.external_green_taxi_2022`;\n",
    "\n",
    "SELECT count(distinct(PULocationID))\n",
    "from `ny-rides-de-zoomcamp-2024.nytaxi.external_green_taxi_2022`;\n",
    "\n",
    "select count(*)\n",
    "from `ny-rides-de-zoomcamp-2024.nytaxi.external_green_taxi_2022`\n",
    "where fare_amount = 0;\n",
    "\n",
    "CREATE OR REPLACE TABLE `ny-rides-de-zoomcamp-2024.nytaxi.external_green_taxi_2022_partitioned`\n",
    "PARTITION BY DATE(lpep_pickup_datetime) \n",
    "CLUSTER BY PUlocationID\n",
    "AS\n",
    "SELECT * FROM `ny-rides-de-zoomcamp-2024.nytaxi.external_green_taxi_2022`;\n",
    "\n",
    "select distinct(PULocationID)\n",
    "from `ny-rides-de-zoomcamp-2024.nytaxi.external_green_taxi_2022_partitioned`\n",
    "where date(lpep_pickup_datetime) between '2022-06-01' and '2022-06-30'\n",
    "```"
   ]
  }
 ],
 "metadata": {
  "kernelspec": {
   "display_name": "ml-zoomcamp",
   "language": "python",
   "name": "python3"
  },
  "language_info": {
   "codemirror_mode": {
    "name": "ipython",
    "version": 3
   },
   "file_extension": ".py",
   "mimetype": "text/x-python",
   "name": "python",
   "nbconvert_exporter": "python",
   "pygments_lexer": "ipython3",
   "version": "3.9.18"
  }
 },
 "nbformat": 4,
 "nbformat_minor": 2
}
