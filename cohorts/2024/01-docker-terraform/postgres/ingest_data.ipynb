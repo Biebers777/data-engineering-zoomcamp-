{
 "cells": [
  {
   "cell_type": "code",
   "execution_count": 6,
   "metadata": {},
   "outputs": [],
   "source": [
    "import os\n",
    "import argparse\n",
    "from time import time\n",
    "import pandas as pd\n",
    "from sqlalchemy import create_engine"
   ]
  },
  {
   "cell_type": "code",
   "execution_count": 8,
   "metadata": {},
   "outputs": [],
   "source": [
    "# Parameters\n",
    "user = 'root'\n",
    "password = 'root'\n",
    "host = 'localhost' \n",
    "port = '5432' \n",
    "db = 'ny_taxi'\n",
    "table_name = 'taxi_zone_lookup'\n",
    "url = 'https://github.com/DataTalksClub/nyc-tlc-data/releases/download/green/green_tripdata_2019-09.csv.gz' \n",
    "csv_name = 'zone.csv'"
   ]
  },
  {
   "cell_type": "code",
   "execution_count": null,
   "metadata": {},
   "outputs": [],
   "source": [
    "# Download CSV\n",
    "if url.endswith('.csv.gz'):\n",
    "    csv_name = 'output.csv.gz'\n",
    "else:\n",
    "    csv_name = 'output.csv'\n",
    "\n",
    "os.system(f\"wget {url} -O {csv_name}\")"
   ]
  },
  {
   "cell_type": "code",
   "execution_count": 10,
   "metadata": {},
   "outputs": [
    {
     "name": "stdout",
     "output_type": "stream",
     "text": [
      "Finished data ingestion.\n"
     ]
    }
   ],
   "source": [
    "# DB connection\n",
    "engine = create_engine(f'postgresql://{user}:{password}@{host}:{port}/{db}')\n",
    "\n",
    "df_iter = pd.read_csv(csv_name, iterator=True, chunksize=100000, low_memory=False)\n",
    "\n",
    "df = next(df_iter)\n",
    "\n",
    "# df.lpep_pickup_datetime = pd.to_datetime(df.lpep_pickup_datetime)\n",
    "# df.lpep_dropoff_datetime = pd.to_datetime(df.lpep_dropoff_datetime)\n",
    "\n",
    "df.head(n=0).to_sql(name=table_name, con=engine, if_exists='replace')\n",
    "\n",
    "df.to_sql(name=table_name, con=engine, if_exists='append')\n",
    "\n",
    "while True: \n",
    "\n",
    "        try:\n",
    "            t_start = time()\n",
    "            \n",
    "            df = next(df_iter)\n",
    "\n",
    "            df.lpep_pickup_datetime = pd.to_datetime(df.lpep_pickup_datetime)\n",
    "            df.lpep_dropoff_datetime = pd.to_datetime(df.lpep_dropoff_datetime)\n",
    "\n",
    "            df.to_sql(name=table_name, con=engine, if_exists='append')\n",
    "\n",
    "            t_end = time()\n",
    "\n",
    "            print('inserted another chunk, took %.3f second' % (t_end - t_start))\n",
    "\n",
    "        except StopIteration:\n",
    "            print(\"Finished data ingestion.\")\n",
    "            break"
   ]
  }
 ],
 "metadata": {
  "kernelspec": {
   "display_name": "Python 3 (ipykernel)",
   "language": "python",
   "name": "python3"
  },
  "language_info": {
   "codemirror_mode": {
    "name": "ipython",
    "version": 3
   },
   "file_extension": ".py",
   "mimetype": "text/x-python",
   "name": "python",
   "nbconvert_exporter": "python",
   "pygments_lexer": "ipython3",
   "version": "3.11.5"
  }
 },
 "nbformat": 4,
 "nbformat_minor": 2
}
