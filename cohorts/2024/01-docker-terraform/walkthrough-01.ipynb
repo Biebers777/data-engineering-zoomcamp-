{
 "cells": [
  {
   "cell_type": "markdown",
   "metadata": {
    "editable": true,
    "slideshow": {
     "slide_type": "slide"
    },
    "tags": []
   },
   "source": [
    "<img align=\"right\"  src=\"images/icon_dtc.jpg\">\n",
    "\n",
    "# Data Engineering Zoomcamp\n",
    "\n",
    "## Module-01 Walkthrough\n",
    "\n",
    "### Environment setup WSL & Codespaces, plus Tips.\n",
    "\n",
    "~ *ellacharmed, 2024.01.25* "
   ]
  },
  {
   "cell_type": "markdown",
   "metadata": {
    "editable": true,
    "slideshow": {
     "slide_type": "slide"
    },
    "tags": []
   },
   "source": [
    "## Goals of Module-01\n",
    "\n",
    "- docker_sql\n",
    "  - setup and access database using containers\n",
    "  - populate database by ingesting data NYC Taxi 2021 yellow\n",
    "  - **query database** <--- main focus"
   ]
  },
  {
   "cell_type": "markdown",
   "metadata": {
    "editable": true,
    "slideshow": {
     "slide_type": "slide"
    },
    "tags": []
   },
   "source": [
    "## Concept: container (1)\n",
    "\n",
    "- why? \n",
    "  - local experiments, reproducibility, isolation, integration test (CI/CD), automation (pipelines)"
   ]
  },
  {
   "cell_type": "markdown",
   "metadata": {
    "editable": true,
    "slideshow": {
     "slide_type": "slide"
    },
    "tags": []
   },
   "source": [
    "## Concept: container (2)\n",
    "\n",
    "- how?\n",
    "  - using config file(s), docker hub registry\n"
   ]
  },
  {
   "cell_type": "markdown",
   "metadata": {
    "editable": true,
    "slideshow": {
     "slide_type": "slide"
    },
    "tags": []
   },
   "source": [
    "## Concept: container (3)\n",
    "\n",
    "- Dockerfile vs docker-compose\n",
    "  - Dockerfile : standalone, unit tests \n",
    "  - docker-compose : recipe, integration"
   ]
  },
  {
   "cell_type": "markdown",
   "metadata": {
    "editable": true,
    "slideshow": {
     "slide_type": "slide"
    },
    "tags": []
   },
   "source": [
    "## Concept: database\n",
    "\n",
    "- server, client\n",
    "- ports\n",
    "- practice with postgres"
   ]
  },
  {
   "cell_type": "markdown",
   "metadata": {
    "editable": true,
    "slideshow": {
     "slide_type": "slide"
    },
    "tags": []
   },
   "source": [
    "## Concept: db diagram\n",
    "\n",
    "<img  width=\"85%\" src=\"images/docker_db.png\">"
   ]
  },
  {
   "cell_type": "markdown",
   "metadata": {
    "editable": true,
    "slideshow": {
     "slide_type": "slide"
    },
    "tags": []
   },
   "source": [
    "## Resource: docker chapter\n",
    "\n",
    "![](images/repo_docker.png)"
   ]
  },
  {
   "cell_type": "markdown",
   "metadata": {
    "editable": true,
    "raw_mimetype": "",
    "slideshow": {
     "slide_type": "slide"
    },
    "tags": []
   },
   "source": [
    "## Goals of Module-01\n",
    "\n",
    "- gcp_terraform\n",
    "  - setup GCP account and service account\n",
    "  - setup terraform IaC, with and without variables\n",
    "  - learn the cycle of init-plan-apply-destroy \n"
   ]
  },
  {
   "cell_type": "markdown",
   "metadata": {
    "editable": true,
    "slideshow": {
     "slide_type": "slide"
    },
    "tags": []
   },
   "source": [
    "## Concepts: google cloud platform\n",
    "\n",
    "- Compute, Storage (bucket), BigQuery"
   ]
  },
  {
   "cell_type": "markdown",
   "metadata": {
    "editable": true,
    "slideshow": {
     "slide_type": "slide"
    },
    "tags": []
   },
   "source": [
    "## Concepts: gcp diagram\n",
    "\n",
    "![](images/gcp_services_408x492px.png)"
   ]
  },
  {
   "cell_type": "markdown",
   "metadata": {
    "editable": true,
    "slideshow": {
     "slide_type": "slide"
    },
    "tags": []
   },
   "source": [
    "## Concepts: infrastructure\n",
    "\n",
    "- what is IaC\n",
    "- what is terraform\n",
    "- the life-cycle of an infrastructure\n",
    "  - init, plan, apply, destroy"
   ]
  },
  {
   "cell_type": "markdown",
   "metadata": {
    "editable": true,
    "slideshow": {
     "slide_type": "slide"
    },
    "tags": []
   },
   "source": [
    "## Resource: terraform chapter\n",
    "\n",
    "![](images/repo_gcp.png)"
   ]
  },
  {
   "cell_type": "markdown",
   "metadata": {
    "editable": true,
    "slideshow": {
     "slide_type": "subslide"
    },
    "tags": []
   },
   "source": [
    "## Locating resources\n",
    "\n",
    "![](images/slack_pins_bookmarks.png)"
   ]
  },
  {
   "cell_type": "markdown",
   "metadata": {
    "editable": true,
    "slideshow": {
     "slide_type": "slide"
    },
    "tags": []
   },
   "source": [
    "##  Resource: ny_taxi dataset\n",
    "\n",
    "![](images/repo_dtc_hosted_dataset.png)"
   ]
  },
  {
   "cell_type": "markdown",
   "metadata": {
    "editable": true,
    "slideshow": {
     "slide_type": "slide"
    },
    "tags": []
   },
   "source": [
    "## Resource: Module-01\n",
    "\n",
    "![](images/repo_module_01.png)"
   ]
  },
  {
   "cell_type": "markdown",
   "metadata": {
    "editable": true,
    "slideshow": {
     "slide_type": "slide"
    },
    "tags": []
   },
   "source": [
    "## Pre-requisite knowledge: CLI\n",
    "\n",
    "Assumed to already know\n",
    "\n",
    "- how to use command line (PATHs, ls, / vs \\, shells)\n",
    "- [The Missing Semester of Your CS Education](https://missing.csail.mit.edu/)\n",
    "- [youtube playlist](https://www.youtube.com/playlist?list=PLyzOVJj3bHQuloKGG59rS43e29ro7I57J)\n",
    "- [Scott Hanselman's My Top Tips for using Windows Terminal like a Pro](https://www.youtube.com/watch?v=FC-gLkYWXLw)"
   ]
  },
  {
   "cell_type": "markdown",
   "metadata": {
    "slideshow": {
     "slide_type": "slide"
    }
   },
   "source": [
    "## Resource: missing semester of CS\n",
    "\n",
    "![](images/missing-semester.png)"
   ]
  },
  {
   "cell_type": "markdown",
   "metadata": {
    "editable": true,
    "slideshow": {
     "slide_type": "slide"
    },
    "tags": []
   },
   "source": [
    "## Pre-requisite knowledge: git\n",
    "\n",
    "Assumed to already know\n",
    "\n",
    "- how to use git and github; git clone / push / fetch / pull, remotes, branches, "
   ]
  },
  {
   "cell_type": "markdown",
   "metadata": {
    "editable": true,
    "slideshow": {
     "slide_type": "slide"
    },
    "tags": []
   },
   "source": [
    "## Pre-requisite knowledge: venv\n",
    "\n",
    "Assumed to already know\n",
    "\n",
    "- how to use conda, venv, pipenv, poetry, aka environment managers etc"
   ]
  },
  {
   "cell_type": "markdown",
   "metadata": {
    "editable": true,
    "slideshow": {
     "slide_type": "slide"
    },
    "tags": []
   },
   "source": [
    "## Pre-requisite knowledge: markdown\n",
    "\n",
    "- how to write and read Markdown"
   ]
  },
  {
   "cell_type": "markdown",
   "metadata": {
    "editable": true,
    "slideshow": {
     "slide_type": "slide"
    },
    "tags": []
   },
   "source": [
    "## Pre-requisite knowledge: Python\n",
    "\n",
    "- how to write and read code in Python"
   ]
  },
  {
   "cell_type": "markdown",
   "metadata": {
    "editable": true,
    "slideshow": {
     "slide_type": "slide"
    },
    "tags": []
   },
   "source": [
    "## Pre-requisite knowledge: networking\n",
    "\n",
    "- concept of server and client\n",
    "- concept of host and service\n",
    "- watch [1.4.2 - Port Mapping and Networks in Docker (Bonus)](https://youtu.be/tOr4hTsHOzU?si=wqCNZLFJcZ4CQU9o)\n",
    "\n",
    "<img  width=\"75%\" src=\"images/concept_ports.png\">\n"
   ]
  },
  {
   "cell_type": "markdown",
   "metadata": {
    "editable": true,
    "slideshow": {
     "slide_type": "slide"
    },
    "tags": []
   },
   "source": [
    "## Pre-requisite knowledge: docs\n",
    "\n",
    "- how to read documentation\n",
    "  - Check DATES of posts, libraries, docs last updated etc\n"
   ]
  },
  {
   "cell_type": "markdown",
   "metadata": {
    "editable": true,
    "slideshow": {
     "slide_type": "slide"
    },
    "tags": []
   },
   "source": [
    "## Pre-requisite knowledge: asking questions\n",
    "\n",
    "### recommended skills to pick up\n",
    "\n",
    "- GPT prompt-engineering : learn it!"
   ]
  },
  {
   "cell_type": "markdown",
   "metadata": {
    "editable": true,
    "slideshow": {
     "slide_type": "slide"
    },
    "tags": []
   },
   "source": [
    "## Tools to install: env setup\n",
    "\n",
    "videos: \n",
    "- [1.4.1 - Setting up the Environment on Google Cloud](https://youtu.be/ae-CV2KfoN0?si=YCnGUwOpiQsobOnM)\n",
    "- [1.4.2 - Using Github Codespaces for the Course](https://youtu.be/XOSUt8Ih3zA?si=MbJDU5FLkVVe4Iyw)\n",
    "- []()"
   ]
  },
  {
   "cell_type": "markdown",
   "metadata": {
    "editable": true,
    "slideshow": {
     "slide_type": "slide"
    },
    "tags": []
   },
   "source": [
    "## Tools to install: vscode\n",
    "\n",
    "- [vs code](https://code.visualstudio.com/)\n",
    "  - useful extensions\n",
    "- [docker desktop](https://www.docker.com/get-started/)\n"
   ]
  },
  {
   "cell_type": "markdown",
   "metadata": {
    "editable": true,
    "slideshow": {
     "slide_type": "slide"
    },
    "tags": []
   },
   "source": [
    "## Tools to install: wsl\n",
    "\n",
    "- [wsl2 + ubuntu](https://learn.microsoft.com/en-us/windows/wsl/install)\n",
    "  - [move_docker_distro_location](https://ellacharmed.github.io/today-I-learned/2_Fundamentals/move_docker_distro_location.html)\n",
    "  - [move_wsl_distro](https://ellacharmed.github.io/today-I-learned/2_Fundamentals/move_wsl_distro.html)"
   ]
  },
  {
   "cell_type": "markdown",
   "metadata": {
    "editable": true,
    "slideshow": {
     "slide_type": "slide"
    },
    "tags": []
   },
   "source": [
    "## Tools to install: auth\n",
    "\n",
    "- gh auth or ssh keys"
   ]
  },
  {
   "cell_type": "markdown",
   "metadata": {
    "editable": true,
    "slideshow": {
     "slide_type": "slide"
    },
    "tags": []
   },
   "source": [
    "## Tools to install: terminal\n",
    "\n",
    "- [terminal from msft store](https://apps.microsoft.com/detail/9N0DX20HK701?hl=en-US&gl=US)\n",
    "- [hanselman's blog on console, terminal, shell](https://www.hanselman.com/blog/whats-the-difference-between-a-console-a-terminal-and-a-shell) "
   ]
  },
  {
   "cell_type": "markdown",
   "metadata": {
    "editable": true,
    "slideshow": {
     "slide_type": "slide"
    },
    "tags": []
   },
   "source": [
    "## Tools to install\n",
    "\n",
    "- gcp sdk: see terraform videos\n",
    "- container VMs vs local dev box\n",
    "  - [micromamba env manager](https://mamba.readthedocs.io/en/latest/user_guide/micromamba.html)\n"
   ]
  },
  {
   "cell_type": "markdown",
   "metadata": {
    "editable": true,
    "slideshow": {
     "slide_type": "slide"
    },
    "tags": []
   },
   "source": [
    "## Tips and Tricks\n",
    "\n",
    "Demo.\n",
    "\n",
    "![](images/vscode_profiles.png)"
   ]
  },
  {
   "cell_type": "markdown",
   "metadata": {
    "editable": true,
    "slideshow": {
     "slide_type": "notes"
    },
    "tags": []
   },
   "source": [
    "vs code extension and other tips\n",
    "\n",
    "- outline, timeline\n",
    "- create symbolic link to your documents path on windows `ln -s /mnt/c/Users/ellabelle/Github ~/projects`\n"
   ]
  },
  {
   "cell_type": "markdown",
   "metadata": {
    "editable": true,
    "slideshow": {
     "slide_type": "slide"
    },
    "tags": []
   },
   "source": [
    "## FAQs\n",
    "\n",
    "- Q: how do I start, what do I do after I sign up? \n",
    "  - A: See the Locate resources section\n"
   ]
  },
  {
   "cell_type": "markdown",
   "metadata": {
    "editable": true,
    "slideshow": {
     "slide_type": "slide"
    },
    "tags": []
   },
   "source": [
    "## FAQs\n",
    "\n",
    "- Q: I've watch the launch video with the Q&A, when's the next video?\n",
    "  - A: have you gone through absolutely all the pins and bookmarks and videos in the playlist? There's so much content\n"
   ]
  },
  {
   "cell_type": "markdown",
   "metadata": {
    "editable": true,
    "slideshow": {
     "slide_type": "slide"
    },
    "tags": []
   },
   "source": [
    "## FAQs\n",
    "\n",
    "- Q: I have an error, please help!!!111!!\n",
    "  - A: Urm, the sky is blue. And...I have 2 cats. Hope that cheers you up?\n",
    "  - A: OK, that's bad that you have an error, is that like a tumor or the flu? Hope it's not contagious.\n",
    "  - A: I'm sorry that you have this error. What do you want me to do with this information?\n"
   ]
  },
  {
   "cell_type": "markdown",
   "metadata": {
    "editable": true,
    "slideshow": {
     "slide_type": "slide"
    },
    "tags": []
   },
   "source": [
    "## FAQs\n",
    "\n",
    "- Q: do I need to clone the repo?\n",
    "  - A: how do you feel about typing from scratch?\n"
   ]
  },
  {
   "cell_type": "markdown",
   "metadata": {
    "editable": true,
    "slideshow": {
     "slide_type": "slide"
    },
    "tags": []
   },
   "source": [
    "## FAQs\n",
    "\n",
    "- Q: pgcli / postgress error...urm what FAQ?\n",
    "  - A: has none of the FAQ suggestions help? See answer to first question\n"
   ]
  },
  {
   "cell_type": "markdown",
   "metadata": {
    "editable": true,
    "slideshow": {
     "slide_type": "slide"
    },
    "tags": []
   },
   "source": [
    "## FAQs\n",
    "\n",
    "- Q: I cannot ingest the parquet data files\n",
    "  - A: See the Locate resources section\n"
   ]
  },
  {
   "cell_type": "markdown",
   "metadata": {
    "editable": true,
    "slideshow": {
     "slide_type": "slide"
    },
    "tags": []
   },
   "source": [
    "## FAQs\n",
    "\n",
    "- Q: I have error A..., then I correct that and I get error D. \n",
    "  - A: OK, tell me what what you typed, what OS? What were you expecting to happen that did not happen?\n"
   ]
  },
  {
   "cell_type": "markdown",
   "metadata": {
    "editable": true,
    "slideshow": {
     "slide_type": "slide"
    },
    "tags": []
   },
   "source": [
    "## Time for a break\n",
    "\n",
    "| |     |\n",
    "| --- | --- |\n",
    "| ![](images/brain_take_a_break_512px.jpg)     | ![](images/woman_at_beach_in_hammock_512px.jpg)    |"
   ]
  },
  {
   "cell_type": "markdown",
   "metadata": {
    "editable": true,
    "slideshow": {
     "slide_type": "slide"
    },
    "tags": []
   },
   "source": [
    "<img align=\"right\"  width=\"25%\" src=\"images/girl_having_coffee_while_studying_512px.jpg\">\n",
    "\n",
    "## THANK YOU!\n",
    "\n",
    "Slides available in my repo"
   ]
  }
 ],
 "metadata": {
  "kernelspec": {
   "display_name": "Python 3 (ipykernel)",
   "language": "python",
   "name": "python3"
  },
  "language_info": {
   "codemirror_mode": {
    "name": "ipython",
    "version": 3
   },
   "file_extension": ".py",
   "mimetype": "text/x-python",
   "name": "python",
   "nbconvert_exporter": "python",
   "pygments_lexer": "ipython3",
   "version": "3.9.18"
  }
 },
 "nbformat": 4,
 "nbformat_minor": 4
}
