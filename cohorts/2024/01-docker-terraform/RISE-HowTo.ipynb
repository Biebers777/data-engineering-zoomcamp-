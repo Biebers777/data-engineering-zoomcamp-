{
 "cells": [
  {
   "cell_type": "markdown",
   "metadata": {
    "slideshow": {
     "slide_type": "slide"
    }
   },
   "source": [
    "## Turn your notebooks into slideshows\n",
    "\n",
    "[source](https://github.com/jupyterlab-contrib/rise/blob/main/examples/README.ipynb)"
   ]
  },
  {
   "cell_type": "markdown",
   "metadata": {
    "slideshow": {
     "slide_type": ""
    }
   },
   "source": [
    "Press `Space` to proceed."
   ]
  },
  {
   "cell_type": "markdown",
   "metadata": {
    "slideshow": {
     "slide_type": "slide"
    }
   },
   "source": [
    "You can write a regular Jupyter notebook, with the usual mix of markdown and code cells (keep on pressing `Space`)."
   ]
  },
  {
   "cell_type": "markdown",
   "metadata": {
    "cell_style": "center",
    "slideshow": {
     "slide_type": "fragment"
    }
   },
   "source": [
    "In code cells you press `Shift-Enter` as usual to evaluate your code (but for now press `Space` again)."
   ]
  },
  {
   "cell_type": "code",
   "execution_count": 5,
   "metadata": {
    "editable": true,
    "slideshow": {
     "slide_type": "slide"
    },
    "tags": []
   },
   "outputs": [
    {
     "name": "stdout",
     "output_type": "stream",
     "text": [
      "Package                           Version\n",
      "--------------------------------- ---------------\n",
      "anyio                             4.2.0\n",
      "argon2-cffi                       23.1.0\n",
      "argon2-cffi-bindings              21.2.0\n",
      "arrow                             1.3.0\n",
      "asttokens                         2.4.1\n",
      "async-lru                         2.0.4\n",
      "attrs                             23.2.0\n",
      "Babel                             2.14.0\n",
      "beautifulsoup4                    4.12.3\n",
      "bleach                            6.1.0\n",
      "Brotli                            1.1.0\n",
      "cached-property                   1.5.2\n",
      "certifi                           2023.11.17\n",
      "cffi                              1.16.0\n",
      "charset-normalizer                3.3.2\n",
      "cli-helpers                       2.3.0\n",
      "click                             8.1.7\n",
      "comm                              0.2.1\n",
      "configobj                         5.0.8\n",
      "connectorx                        0.3.2\n",
      "debugpy                           1.8.0\n",
      "decorator                         5.1.1\n",
      "defusedxml                        0.7.1\n",
      "entrypoints                       0.4\n",
      "exceptiongroup                    1.2.0\n",
      "executing                         2.0.1\n",
      "fastjsonschema                    2.19.1\n",
      "fqdn                              1.5.1\n",
      "greenlet                          3.0.3\n",
      "idna                              3.6\n",
      "importlib-metadata                7.0.1\n",
      "importlib-resources               6.1.1\n",
      "ipykernel                         6.29.0\n",
      "ipython                           8.18.1\n",
      "ipython-genutils                  0.2.0\n",
      "ipywidgets                        8.1.1\n",
      "isoduration                       20.11.0\n",
      "jedi                              0.19.1\n",
      "Jinja2                            3.1.3\n",
      "json5                             0.9.14\n",
      "jsonpointer                       2.4\n",
      "jsonschema                        4.21.1\n",
      "jsonschema-specifications         2023.12.1\n",
      "jupyter                           1.0.0\n",
      "jupyter_client                    8.6.0\n",
      "jupyter-console                   6.6.3\n",
      "jupyter-contrib-core              0.4.0\n",
      "jupyter-contrib-nbextensions      0.7.0\n",
      "jupyter_core                      5.7.1\n",
      "jupyter-events                    0.9.0\n",
      "jupyter-highlight-selected-word   0.2.0\n",
      "jupyter-latex-envs                1.4.6\n",
      "jupyter-lsp                       2.2.2\n",
      "jupyter-nbextensions-configurator 0.6.1\n",
      "jupyter_server                    2.12.5\n",
      "jupyter_server_terminals          0.5.1\n",
      "jupyterlab                        4.0.11\n",
      "jupyterlab_pygments               0.3.0\n",
      "jupyterlab_rise                   0.42.0\n",
      "jupyterlab_server                 2.25.2\n",
      "jupyterlab-widgets                3.0.9\n",
      "lxml                              5.1.0\n",
      "MarkupSafe                        2.1.3\n",
      "matplotlib-inline                 0.1.6\n",
      "mistune                           3.0.2\n",
      "nbclient                          0.8.0\n",
      "nbconvert                         7.14.2\n",
      "nbformat                          5.9.2\n",
      "nest_asyncio                      1.5.9\n",
      "notebook                          7.0.7\n",
      "notebook_shim                     0.2.3\n",
      "numpy                             1.26.3\n",
      "overrides                         7.4.0\n",
      "packaging                         23.2\n",
      "pandas                            2.1.4\n",
      "pandocfilters                     1.5.0\n",
      "parso                             0.8.3\n",
      "pendulum                          3.0.0\n",
      "pexpect                           4.8.0\n",
      "pgcli                             4.0.1\n",
      "pgspecial                         2.1.1\n",
      "pickleshare                       0.7.5\n",
      "pip                               23.3.2\n",
      "pkgutil_resolve_name              1.3.10\n",
      "platformdirs                      4.1.0\n",
      "polars                            0.20.5\n",
      "prometheus-client                 0.19.0\n",
      "prompt-toolkit                    3.0.42\n",
      "psutil                            5.9.7\n",
      "psycopg                           3.1.17\n",
      "psycopg-c                         3.1.17\n",
      "psycopg2                          2.9.9\n",
      "psycopg2-binary                   2.9.9\n",
      "ptyprocess                        0.7.0\n",
      "pure-eval                         0.2.2\n",
      "pyarrow                           14.0.2\n",
      "pycparser                         2.21\n",
      "Pygments                          2.17.2\n",
      "PySocks                           1.7.1\n",
      "python-dateutil                   2.8.2\n",
      "python-json-logger                2.0.7\n",
      "pytz                              2023.3.post1\n",
      "PyYAML                            6.0.1\n",
      "pyzmq                             25.1.2\n",
      "qtconsole                         5.5.1\n",
      "QtPy                              2.4.1\n",
      "referencing                       0.32.1\n",
      "requests                          2.31.0\n",
      "rfc3339-validator                 0.1.4\n",
      "rfc3986-validator                 0.1.1\n",
      "rise                              5.7.1\n",
      "rpds-py                           0.17.1\n",
      "Send2Trash                        1.8.2\n",
      "setproctitle                      1.3.3\n",
      "setuptools                        69.0.3\n",
      "six                               1.16.0\n",
      "sniffio                           1.3.0\n",
      "soupsieve                         2.5\n",
      "SQLAlchemy                        2.0.25\n",
      "sqlparse                          0.4.4\n",
      "stack-data                        0.6.2\n",
      "tabulate                          0.9.0\n",
      "terminado                         0.18.0\n",
      "time-machine                      2.13.0\n",
      "tinycss2                          1.2.1\n",
      "tomli                             2.0.1\n",
      "tornado                           6.3.3\n",
      "traitlets                         5.14.1\n",
      "types-python-dateutil             2.8.19.20240106\n",
      "typing_extensions                 4.9.0\n",
      "typing-utils                      0.1.0\n",
      "tzdata                            2023.4\n",
      "uri-template                      1.3.0\n",
      "urllib3                           2.1.0\n",
      "wcwidth                           0.2.13\n",
      "webcolors                         1.13\n",
      "webencodings                      0.5.1\n",
      "websocket-client                  1.7.0\n",
      "wheel                             0.42.0\n",
      "widgetsnbextension                4.0.9\n",
      "zipp                              3.17.0\n"
     ]
    }
   ],
   "source": [
    "!pip list"
   ]
  },
  {
   "cell_type": "code",
   "execution_count": 4,
   "metadata": {},
   "outputs": [
    {
     "name": "stdout",
     "output_type": "stream",
     "text": [
      "The rise module is not an IPython extension.\n"
     ]
    }
   ],
   "source": [
    "%load_ext rise"
   ]
  },
  {
   "cell_type": "code",
   "execution_count": null,
   "metadata": {
    "cell_style": "center",
    "editable": true,
    "slideshow": {
     "slide_type": "fragment"
    },
    "tags": []
   },
   "outputs": [],
   "source": [
    "# this is where you press Shift-Enter\n",
    "import numpy as np\n",
    "import matplotlib.pyplot as plt\n",
    "plt.ion()\n",
    "\n",
    "\"Hello world\""
   ]
  },
  {
   "cell_type": "markdown",
   "metadata": {},
   "source": [
    "But apart from that, `Space` is your friend!"
   ]
  },
  {
   "cell_type": "markdown",
   "metadata": {
    "slideshow": {
     "slide_type": "slide"
    }
   },
   "source": [
    "You're in a browser, so remember that you can always use smaller / larger fonts with keyboard shortcuts like `Alt +` and `Alt -` or similar (it could be `Ctrl` instead of `Alt` depending on the platform you are on).\n",
    "\n",
    "<div style=\"font-size: 50%\"> ideally, the following 2 cells are shown side-by-side, at least that was the case with the old-school classic notebook</div>"
   ]
  },
  {
   "cell_type": "code",
   "execution_count": null,
   "metadata": {
    "cell_style": "split",
    "slideshow": {
     "slide_type": "fragment"
    }
   },
   "outputs": [],
   "source": [
    "# of course you can show figures\n",
    "\n",
    "def polynom(x):\n",
    "    return 2 * x**2 - 20 * x + 2\n",
    "\n",
    "X = np.linspace(-10, 10)\n",
    "Y = polynom(X)\n",
    "plt.plot(X, Y);"
   ]
  },
  {
   "cell_type": "code",
   "execution_count": null,
   "metadata": {
    "cell_style": "split",
    "slideshow": {
     "slide_type": "fragment"
    }
   },
   "outputs": [],
   "source": [
    "# and everything works as usual\n",
    "\n",
    "# an animation to illustrate \n",
    "# translation by variable change\n",
    "from ipywidgets import interact, FloatSlider\n",
    "\n",
    "def parabolic(offset):\n",
    "    X = np.linspace(-10, 10)\n",
    "    Y = polynom(X-offset)\n",
    "    # use same y scale for all offsets\n",
    "    plt.gca().set_ylim([-100, 500])\n",
    "    plt.plot(X, Y);\n",
    "    \n",
    "interact(parabolic, \n",
    "         offset=FloatSlider(min=-10., max=10.,\n",
    "                           step=0.25));"
   ]
  },
  {
   "cell_type": "markdown",
   "metadata": {
    "slideshow": {
     "slide_type": "slide"
    }
   },
   "source": [
    "# The RISE notebook extension"
   ]
  },
  {
   "cell_type": "markdown",
   "metadata": {},
   "source": [
    "All this is achieved through the RISE notebook extension.\n",
    "\n",
    "See full documentation at http://rise.readthedocs.io/."
   ]
  },
  {
   "cell_type": "markdown",
   "metadata": {
    "slideshow": {
     "slide_type": "slide"
    }
   },
   "source": [
    "# Thanks to reveal.js"
   ]
  },
  {
   "cell_type": "markdown",
   "metadata": {},
   "source": [
    "The underlying tool is [reveal.js](https://revealjs.com/), and it supports a lot of cool features."
   ]
  },
  {
   "cell_type": "markdown",
   "metadata": {},
   "source": [
    "For example you can organize your show into:\n",
    "\n",
    "* slides (left to right)\n",
    "* subslides (top to bottom)\n",
    "* fragments (stops inside a slide)"
   ]
  },
  {
   "cell_type": "markdown",
   "metadata": {},
   "source": [
    "You do not need to worry, just press `Space` to proceed along the main line."
   ]
  },
  {
   "cell_type": "markdown",
   "metadata": {
    "slideshow": {
     "slide_type": "subslide"
    }
   },
   "source": [
    "For example this is a subslide; observe the cursor in the bottom right corner."
   ]
  },
  {
   "cell_type": "markdown",
   "metadata": {},
   "source": [
    "If you press `Shift-Space` - here or anywhere else - you will go backwards, so here it would be up."
   ]
  },
  {
   "cell_type": "markdown",
   "metadata": {
    "slideshow": {
     "slide_type": "slide"
    }
   },
   "source": [
    "# Speaker notes"
   ]
  },
  {
   "cell_type": "markdown",
   "metadata": {},
   "source": [
    "If you now press `t` you should see a second window open, with a presenter view, that shows *Notes* cells - that won't show up in the main slides."
   ]
  },
  {
   "cell_type": "markdown",
   "metadata": {
    "slideshow": {
     "slide_type": "notes"
    }
   },
   "source": [
    "This is an example of a *Notes* cell."
   ]
  },
  {
   "cell_type": "markdown",
   "metadata": {
    "slideshow": {
     "slide_type": ""
    }
   },
   "source": [
    "Next, we'll cover how to tag cells as *Slide*, *SubSlide*, *Fragment* or *Notes*."
   ]
  },
  {
   "cell_type": "markdown",
   "metadata": {
    "slideshow": {
     "slide_type": "slide"
    }
   },
   "source": [
    "# How to create slideshows"
   ]
  },
  {
   "cell_type": "markdown",
   "metadata": {},
   "source": [
    "### Step 1: enable slideshow cell toolbar"
   ]
  },
  {
   "cell_type": "markdown",
   "metadata": {},
   "source": [
    "![](slide-toolbar.png)"
   ]
  },
  {
   "cell_type": "markdown",
   "metadata": {
    "cell_style": "center",
    "slideshow": {
     "slide_type": "slide"
    }
   },
   "source": [
    "### Step 2:  add appropriate tag to each cell"
   ]
  },
  {
   "cell_type": "markdown",
   "metadata": {
    "cell_style": "split"
   },
   "source": [
    "From the cell toolbar...\n",
    "\n",
    "![](toolbar-options.png)"
   ]
  },
  {
   "cell_type": "markdown",
   "metadata": {
    "cell_style": "split",
    "slideshow": {
     "slide_type": "-"
    }
   },
   "source": [
    "or, in command mode, use keyboard shortcuts\n",
    "\n",
    "* `shift-i` : toggle slide\n",
    "* `shift-b` : toggle subslide\n",
    "* `shift-g` : toggle fragment"
   ]
  },
  {
   "cell_type": "markdown",
   "metadata": {
    "slideshow": {
     "slide_type": "slide"
    }
   },
   "source": [
    "# CSS"
   ]
  },
  {
   "cell_type": "markdown",
   "metadata": {
    "slideshow": {
     "slide_type": "notes"
    }
   },
   "source": [
    "2 files are loaded without the need for configuring\n",
    "\n",
    "* `rise.css` in the current directory\n",
    "* `README.css` for this notebook because it is called `README.ipynb`\n",
    "\n",
    "If that works then the cell below has a large border width and a big south-east border-radius"
   ]
  },
  {
   "cell_type": "code",
   "execution_count": null,
   "metadata": {
    "slideshow": {
     "slide_type": "-"
    }
   },
   "outputs": [],
   "source": [
    "# sample code cell\n",
    "message = \"my look is changed by both rise.css and README.css\""
   ]
  },
  {
   "cell_type": "markdown",
   "metadata": {
    "slideshow": {
     "slide_type": "slide"
    }
   },
   "source": [
    "# Publishing on binder"
   ]
  },
  {
   "cell_type": "markdown",
   "metadata": {},
   "source": [
    "In order for a binder-hosted notebook to start in slideshow mode, you need to have the following tag set in the notebook metadata:\n",
    "\n",
    "```javascript        \n",
    "    ...\n",
    "    \"rise\": {\n",
    "        \"autolaunch\": true\n",
    "    }\n",
    "    ...\n",
    "```"
   ]
  },
  {
   "cell_type": "markdown",
   "metadata": {
    "slideshow": {
     "slide_type": "slide"
    }
   },
   "source": [
    "You can edit the notebook metadata from the `edit` menu, submenu `edit notebook metadata`.\n",
    "\n",
    "Note finally that the `rise` key in this json file used to be named `livereveal`. The latter is still honored, but the former takes precedence, and it is recommended to use only `rise` from now on."
   ]
  },
  {
   "cell_type": "markdown",
   "metadata": {
    "slideshow": {
     "slide_type": "slide"
    }
   },
   "source": [
    "# Chalkboard"
   ]
  },
  {
   "cell_type": "markdown",
   "metadata": {},
   "source": [
    "As an option, you can turn on the *chalkboard* reveal plugin, that manifests itself with 2 extra buttons in the lower left area, that let you add free drawings on your slides."
   ]
  },
  {
   "cell_type": "markdown",
   "metadata": {},
   "source": [
    "This option is turned on, in the notebook metadata again, with:\n",
    "\n",
    "```javascript\n",
    "    ...\n",
    "    \"rise\": {\n",
    "      \"enable_chalkboard\": true\n",
    "    }\n",
    "    ...\n",
    "```"
   ]
  },
  {
   "cell_type": "markdown",
   "metadata": {
    "slideshow": {
     "slide_type": "slide"
    }
   },
   "source": [
    "# tables"
   ]
  },
  {
   "cell_type": "markdown",
   "metadata": {},
   "source": [
    "Mostly for checking the rendering of tables, here's a few samples"
   ]
  },
  {
   "cell_type": "code",
   "execution_count": null,
   "metadata": {},
   "outputs": [],
   "source": [
    "# first using pandas\n",
    "\n",
    "import seaborn as sns\n",
    "titanic = sns.load_dataset('titanic')\n",
    "columns = \"survived\tpclass\tsex\tage\tembarked\tclass\twho\tadult_male\".split()\n",
    "titanic[columns].head(8)"
   ]
  },
  {
   "cell_type": "markdown",
   "metadata": {
    "slideshow": {
     "slide_type": "slide"
    }
   },
   "source": [
    "and the same but inlined as markdown\n",
    "\n",
    "|    |   survived |   pclass | sex    |   age | embarked   | class   | who   | adult_male   |\n",
    "|---:|-----------:|---------:|:-------|------:|:-----------|:--------|:------|:-------------|\n",
    "|  0 |          0 |        3 | male   |    22 | S          | Third   | man   | True         |\n",
    "|  1 |          1 |        1 | female |    38 | C          | First   | woman | False        |\n",
    "|  2 |          1 |        3 | female |    26 | S          | Third   | woman | False        |\n",
    "|  3 |          1 |        1 | female |    35 | S          | First   | woman | False        |\n",
    "|  4 |          0 |        3 | male   |    35 | S          | Third   | man   | True         |\n",
    "|  5 |          0 |        3 | male   |   nan | Q          | Third   | man   | True         |\n",
    "|  6 |          0 |        1 | male   |    54 | S          | First   | man   | True         |\n",
    "|  7 |          0 |        3 | male   |     2 | S          | Third   | child | False        |\n"
   ]
  },
  {
   "cell_type": "markdown",
   "metadata": {},
   "source": [
    "## Exporting to PDF\n",
    "\n",
    "`pip install nbconvert` into `dezoomcamp` did not work, so created a new venv `py312` just to do nbconvert with the `RISE` plugin.\n",
    "\n",
    "Notebook can be created and edited in vscode to be tagged with the slides/notes/etc, but slides only trigger from a `jupyter notebook` Render [Alt+R] command. \n",
    "Note: currently [Alt+R] binds to Nvidia stuff, need to disable that if doing this regularly.\n",
    "\n",
    "Can also `nbconvert --to html` I think, once no changes are deem necessary, to present using an `.html` file; but have not tried if `t` key (for speaker's notes) works if not \"*live*\".\n",
    "\n",
    "\n",
    "```bash\n",
    "cd <path to slides.ipynb>\n",
    "micromamba activate py312\n",
    "jupyter nbconvert --to pdf slides.ipynb\n",
    "```"
   ]
  },
  {
   "cell_type": "markdown",
   "metadata": {},
   "source": []
  }
 ],
 "metadata": {
  "celltoolbar": "Slideshow",
  "jupytext": {
   "formats": "ipynb"
  },
  "kernelspec": {
   "display_name": "Python 3 (ipykernel)",
   "language": "python",
   "name": "python3"
  },
  "language_info": {
   "codemirror_mode": {
    "name": "ipython",
    "version": 3
   },
   "file_extension": ".py",
   "mimetype": "text/x-python",
   "name": "python",
   "nbconvert_exporter": "python",
   "pygments_lexer": "ipython3",
   "version": "3.9.18"
  },
  "rise": {
   "autolaunch": true,
   "enable_chalkboard": true
  },
  "toc": {
   "base_numbering": 1,
   "nav_menu": {},
   "number_sections": true,
   "sideBar": true,
   "skip_h1_title": false,
   "title_cell": "Table of Contents",
   "title_sidebar": "Contents",
   "toc_cell": false,
   "toc_position": {},
   "toc_section_display": true,
   "toc_window_display": false
  }
 },
 "nbformat": 4,
 "nbformat_minor": 4
}
