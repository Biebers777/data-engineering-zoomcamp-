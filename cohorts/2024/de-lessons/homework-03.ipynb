{
 "cells": [
  {
   "cell_type": "markdown",
   "metadata": {},
   "source": [
    "# Week 3 Homework\n",
    "\n",
    "ATTENTION: At the end of the submission form, you will be required to include a link to your GitHub repository or other public code-hosting site. This repository should contain your code for solving the homework. If your solution includes code that is not in file format (such as SQL queries or shell commands), please include these directly in the README file of your repository.\n",
    "\n",
    "<b><u>Important Note:</b></u> <p> For this homework we will be using the 2022 Green Taxi Trip Record Parquet Files from the New York\n",
    "City Taxi Data found here: </br> https://www.nyc.gov/site/tlc/about/tlc-trip-record-data.page </br>\n",
    "If you are using orchestration such as Mage, Airflow or Prefect do not load the data into Big Query using the orchestrator.</br> \n",
    "Stop with loading the files into a bucket. </br></br>\n",
    "<u>NOTE:</u> You will need to use the PARQUET option files when creating an External Table</br>\n",
    "\n",
    "<b>SETUP:</b></br>\n",
    "Create an external table using the Green Taxi Trip Records Data for 2022. </br>\n",
    "Create a table in BQ using the Green Taxi Trip Records for 2022 (do not partition or cluster this table). </br>\n",
    "</p>"
   ]
  },
  {
   "cell_type": "markdown",
   "metadata": {},
   "source": [
    "### Observe URL patterns\n",
    "\n",
    "- https://d37ci6vzurychx.cloudfront.net/trip-data/green_tripdata_2022-01.parquet\n",
    "- https://d37ci6vzurychx.cloudfront.net/trip-data/green_tripdata_2022-02.parquet\n",
    "- https://d37ci6vzurychx.cloudfront.net/trip-data/green_tripdata_2022-11.parquet\n",
    "- https://d37ci6vzurychx.cloudfront.net/trip-data/green_tripdata_2022-12.parquet\n",
    "\n",
    "Same as for homework#2, can reuse. Now need to make that block a \"common utils block\" and pass the \n",
    "- base_URL\n",
    "- colour\n",
    "- year\n",
    "- extension\n",
    "\n",
    "or create separate functions for difference sources, as pattern remains the same in each source. Note Module-04 uses fhv data too\n",
    "\n",
    "Needs to use chunking as shown in dlt workshop with generators as files are too big and too many files/"
   ]
  },
  {
   "cell_type": "markdown",
   "metadata": {},
   "source": [
    "## Question 1: count of records\n",
    "\n",
    "What is count of records for the 2022 Green Taxi Data??\n",
    "\n",
    "### Answer 1: `840,402`\n",
    "\n",
    "- 65,623,481\n",
    "- 840,402\n",
    "- 1,936,423\n",
    "- 253,647"
   ]
  },
  {
   "cell_type": "markdown",
   "metadata": {},
   "source": [
    "### Quick prototyping from local files"
   ]
  },
  {
   "cell_type": "code",
   "execution_count": 1,
   "metadata": {},
   "outputs": [],
   "source": [
    "import pandas as pd\n",
    "import pyarrow as pa\n",
    "import pyarrow.parquet as pq"
   ]
  },
  {
   "cell_type": "code",
   "execution_count": 2,
   "metadata": {},
   "outputs": [
    {
     "name": "stdout",
     "output_type": "stream",
     "text": [
      "<pyarrow._parquet.FileMetaData object at 0x7f2b2385fe70>\n",
      "  created_by: parquet-cpp-arrow version 7.0.0\n",
      "  num_columns: 20\n",
      "  num_rows: 62495\n",
      "  num_row_groups: 1\n",
      "  format_version: 1.0\n",
      "  serialized_size: 10699\n"
     ]
    }
   ],
   "source": [
    "metadata = pq.read_metadata('../../../data/parquet/green_tripdata_2022-01.parquet')\n",
    "print(metadata)"
   ]
  },
  {
   "cell_type": "code",
   "execution_count": 3,
   "metadata": {},
   "outputs": [
    {
     "data": {
      "text/plain": [
       "<pyarrow._parquet.ParquetSchema object at 0x7f2a4f599700>\n",
       "required group field_id=-1 schema {\n",
       "  optional int64 field_id=-1 VendorID;\n",
       "  optional int64 field_id=-1 lpep_pickup_datetime (Timestamp(isAdjustedToUTC=false, timeUnit=microseconds, is_from_converted_type=false, force_set_converted_type=false));\n",
       "  optional int64 field_id=-1 lpep_dropoff_datetime (Timestamp(isAdjustedToUTC=false, timeUnit=microseconds, is_from_converted_type=false, force_set_converted_type=false));\n",
       "  optional binary field_id=-1 store_and_fwd_flag (String);\n",
       "  optional double field_id=-1 RatecodeID;\n",
       "  optional int64 field_id=-1 PULocationID;\n",
       "  optional int64 field_id=-1 DOLocationID;\n",
       "  optional double field_id=-1 passenger_count;\n",
       "  optional double field_id=-1 trip_distance;\n",
       "  optional double field_id=-1 fare_amount;\n",
       "  optional double field_id=-1 extra;\n",
       "  optional double field_id=-1 mta_tax;\n",
       "  optional double field_id=-1 tip_amount;\n",
       "  optional double field_id=-1 tolls_amount;\n",
       "  optional int32 field_id=-1 ehail_fee (Null);\n",
       "  optional double field_id=-1 improvement_surcharge;\n",
       "  optional double field_id=-1 total_amount;\n",
       "  optional double field_id=-1 payment_type;\n",
       "  optional double field_id=-1 trip_type;\n",
       "  optional double field_id=-1 congestion_surcharge;\n",
       "}"
      ]
     },
     "execution_count": 3,
     "metadata": {},
     "output_type": "execute_result"
    }
   ],
   "source": [
    "metadata.schema"
   ]
  },
  {
   "cell_type": "code",
   "execution_count": 4,
   "metadata": {},
   "outputs": [
    {
     "name": "stdout",
     "output_type": "stream",
     "text": [
      "1\n",
      " ../../../data/parquet/green_tripdata_2022-01.parquet appended successfully!\n",
      "2\n",
      " ../../../data/parquet/green_tripdata_2022-02.parquet appended successfully!\n",
      "3\n",
      " ../../../data/parquet/green_tripdata_2022-03.parquet appended successfully!\n",
      "4\n",
      " ../../../data/parquet/green_tripdata_2022-04.parquet appended successfully!\n",
      "5\n",
      " ../../../data/parquet/green_tripdata_2022-05.parquet appended successfully!\n",
      "6\n",
      " ../../../data/parquet/green_tripdata_2022-06.parquet appended successfully!\n",
      "7\n",
      " ../../../data/parquet/green_tripdata_2022-07.parquet appended successfully!\n",
      "8\n",
      " ../../../data/parquet/green_tripdata_2022-08.parquet appended successfully!\n",
      "9\n",
      " ../../../data/parquet/green_tripdata_2022-09.parquet appended successfully!\n",
      "10\n",
      " ../../../data/parquet/green_tripdata_2022-10.parquet appended successfully!\n",
      "11\n",
      " ../../../data/parquet/green_tripdata_2022-11.parquet appended successfully!\n",
      "12\n",
      " ../../../data/parquet/green_tripdata_2022-12.parquet appended successfully!\n"
     ]
    },
    {
     "data": {
      "text/html": [
       "<div>\n",
       "<style scoped>\n",
       "    .dataframe tbody tr th:only-of-type {\n",
       "        vertical-align: middle;\n",
       "    }\n",
       "\n",
       "    .dataframe tbody tr th {\n",
       "        vertical-align: top;\n",
       "    }\n",
       "\n",
       "    .dataframe thead th {\n",
       "        text-align: right;\n",
       "    }\n",
       "</style>\n",
       "<table border=\"1\" class=\"dataframe\">\n",
       "  <thead>\n",
       "    <tr style=\"text-align: right;\">\n",
       "      <th></th>\n",
       "      <th>VendorID</th>\n",
       "      <th>lpep_pickup_datetime</th>\n",
       "      <th>lpep_dropoff_datetime</th>\n",
       "      <th>passenger_count</th>\n",
       "      <th>trip_distance</th>\n",
       "      <th>RatecodeID</th>\n",
       "      <th>store_and_fwd_flag</th>\n",
       "      <th>PULocationID</th>\n",
       "      <th>DOLocationID</th>\n",
       "      <th>payment_type</th>\n",
       "      <th>fare_amount</th>\n",
       "      <th>extra</th>\n",
       "      <th>mta_tax</th>\n",
       "      <th>tip_amount</th>\n",
       "      <th>tolls_amount</th>\n",
       "      <th>improvement_surcharge</th>\n",
       "      <th>total_amount</th>\n",
       "      <th>congestion_surcharge</th>\n",
       "    </tr>\n",
       "  </thead>\n",
       "  <tbody>\n",
       "    <tr>\n",
       "      <th>0</th>\n",
       "      <td>2</td>\n",
       "      <td>2021-12-31 19:14:21-05:00</td>\n",
       "      <td>2021-12-31 19:15:33-05:00</td>\n",
       "      <td>1.0</td>\n",
       "      <td>0.44</td>\n",
       "      <td>1.0</td>\n",
       "      <td>N</td>\n",
       "      <td>42</td>\n",
       "      <td>42</td>\n",
       "      <td>2.0</td>\n",
       "      <td>3.50</td>\n",
       "      <td>0.50</td>\n",
       "      <td>0.5</td>\n",
       "      <td>0.00</td>\n",
       "      <td>0.0</td>\n",
       "      <td>0.3</td>\n",
       "      <td>4.80</td>\n",
       "      <td>0.00</td>\n",
       "    </tr>\n",
       "    <tr>\n",
       "      <th>1</th>\n",
       "      <td>1</td>\n",
       "      <td>2021-12-31 19:20:55-05:00</td>\n",
       "      <td>2021-12-31 19:29:38-05:00</td>\n",
       "      <td>1.0</td>\n",
       "      <td>2.10</td>\n",
       "      <td>1.0</td>\n",
       "      <td>N</td>\n",
       "      <td>116</td>\n",
       "      <td>41</td>\n",
       "      <td>2.0</td>\n",
       "      <td>9.50</td>\n",
       "      <td>0.50</td>\n",
       "      <td>0.5</td>\n",
       "      <td>0.00</td>\n",
       "      <td>0.0</td>\n",
       "      <td>0.3</td>\n",
       "      <td>10.80</td>\n",
       "      <td>0.00</td>\n",
       "    </tr>\n",
       "    <tr>\n",
       "      <th>2</th>\n",
       "      <td>1</td>\n",
       "      <td>2021-12-31 19:57:02-05:00</td>\n",
       "      <td>2021-12-31 20:13:14-05:00</td>\n",
       "      <td>1.0</td>\n",
       "      <td>3.70</td>\n",
       "      <td>1.0</td>\n",
       "      <td>N</td>\n",
       "      <td>41</td>\n",
       "      <td>140</td>\n",
       "      <td>1.0</td>\n",
       "      <td>14.50</td>\n",
       "      <td>3.25</td>\n",
       "      <td>0.5</td>\n",
       "      <td>4.60</td>\n",
       "      <td>0.0</td>\n",
       "      <td>0.3</td>\n",
       "      <td>23.15</td>\n",
       "      <td>2.75</td>\n",
       "    </tr>\n",
       "    <tr>\n",
       "      <th>3</th>\n",
       "      <td>2</td>\n",
       "      <td>2021-12-31 19:07:42-05:00</td>\n",
       "      <td>2021-12-31 19:15:57-05:00</td>\n",
       "      <td>1.0</td>\n",
       "      <td>1.69</td>\n",
       "      <td>1.0</td>\n",
       "      <td>N</td>\n",
       "      <td>181</td>\n",
       "      <td>181</td>\n",
       "      <td>2.0</td>\n",
       "      <td>8.00</td>\n",
       "      <td>0.50</td>\n",
       "      <td>0.5</td>\n",
       "      <td>0.00</td>\n",
       "      <td>0.0</td>\n",
       "      <td>0.3</td>\n",
       "      <td>9.30</td>\n",
       "      <td>0.00</td>\n",
       "    </tr>\n",
       "    <tr>\n",
       "      <th>4</th>\n",
       "      <td>2</td>\n",
       "      <td>2021-12-31 19:07:50-05:00</td>\n",
       "      <td>2021-12-31 19:28:52-05:00</td>\n",
       "      <td>1.0</td>\n",
       "      <td>6.26</td>\n",
       "      <td>1.0</td>\n",
       "      <td>N</td>\n",
       "      <td>33</td>\n",
       "      <td>170</td>\n",
       "      <td>1.0</td>\n",
       "      <td>22.00</td>\n",
       "      <td>0.50</td>\n",
       "      <td>0.5</td>\n",
       "      <td>5.21</td>\n",
       "      <td>0.0</td>\n",
       "      <td>0.3</td>\n",
       "      <td>31.26</td>\n",
       "      <td>2.75</td>\n",
       "    </tr>\n",
       "    <tr>\n",
       "      <th>...</th>\n",
       "      <td>...</td>\n",
       "      <td>...</td>\n",
       "      <td>...</td>\n",
       "      <td>...</td>\n",
       "      <td>...</td>\n",
       "      <td>...</td>\n",
       "      <td>...</td>\n",
       "      <td>...</td>\n",
       "      <td>...</td>\n",
       "      <td>...</td>\n",
       "      <td>...</td>\n",
       "      <td>...</td>\n",
       "      <td>...</td>\n",
       "      <td>...</td>\n",
       "      <td>...</td>\n",
       "      <td>...</td>\n",
       "      <td>...</td>\n",
       "      <td>...</td>\n",
       "    </tr>\n",
       "    <tr>\n",
       "      <th>840397</th>\n",
       "      <td>2</td>\n",
       "      <td>2022-12-31 18:33:00-05:00</td>\n",
       "      <td>2022-12-31 18:49:00-05:00</td>\n",
       "      <td>NaN</td>\n",
       "      <td>3.53</td>\n",
       "      <td>NaN</td>\n",
       "      <td>None</td>\n",
       "      <td>33</td>\n",
       "      <td>79</td>\n",
       "      <td>NaN</td>\n",
       "      <td>20.72</td>\n",
       "      <td>0.00</td>\n",
       "      <td>0.0</td>\n",
       "      <td>4.89</td>\n",
       "      <td>0.0</td>\n",
       "      <td>1.0</td>\n",
       "      <td>29.36</td>\n",
       "      <td>NaN</td>\n",
       "    </tr>\n",
       "    <tr>\n",
       "      <th>840398</th>\n",
       "      <td>2</td>\n",
       "      <td>2022-12-31 18:29:00-05:00</td>\n",
       "      <td>2022-12-31 19:01:00-05:00</td>\n",
       "      <td>NaN</td>\n",
       "      <td>8.94</td>\n",
       "      <td>NaN</td>\n",
       "      <td>None</td>\n",
       "      <td>49</td>\n",
       "      <td>197</td>\n",
       "      <td>NaN</td>\n",
       "      <td>39.01</td>\n",
       "      <td>0.00</td>\n",
       "      <td>0.0</td>\n",
       "      <td>8.00</td>\n",
       "      <td>0.0</td>\n",
       "      <td>1.0</td>\n",
       "      <td>48.01</td>\n",
       "      <td>NaN</td>\n",
       "    </tr>\n",
       "    <tr>\n",
       "      <th>840399</th>\n",
       "      <td>2</td>\n",
       "      <td>2022-12-31 18:05:00-05:00</td>\n",
       "      <td>2022-12-31 18:12:00-05:00</td>\n",
       "      <td>NaN</td>\n",
       "      <td>1.27</td>\n",
       "      <td>NaN</td>\n",
       "      <td>None</td>\n",
       "      <td>54</td>\n",
       "      <td>181</td>\n",
       "      <td>NaN</td>\n",
       "      <td>12.11</td>\n",
       "      <td>0.00</td>\n",
       "      <td>0.0</td>\n",
       "      <td>2.62</td>\n",
       "      <td>0.0</td>\n",
       "      <td>1.0</td>\n",
       "      <td>15.73</td>\n",
       "      <td>NaN</td>\n",
       "    </tr>\n",
       "    <tr>\n",
       "      <th>840400</th>\n",
       "      <td>2</td>\n",
       "      <td>2022-12-31 18:03:00-05:00</td>\n",
       "      <td>2022-12-31 18:18:00-05:00</td>\n",
       "      <td>NaN</td>\n",
       "      <td>2.23</td>\n",
       "      <td>NaN</td>\n",
       "      <td>None</td>\n",
       "      <td>7</td>\n",
       "      <td>129</td>\n",
       "      <td>NaN</td>\n",
       "      <td>15.51</td>\n",
       "      <td>0.00</td>\n",
       "      <td>0.0</td>\n",
       "      <td>3.30</td>\n",
       "      <td>0.0</td>\n",
       "      <td>1.0</td>\n",
       "      <td>19.81</td>\n",
       "      <td>NaN</td>\n",
       "    </tr>\n",
       "    <tr>\n",
       "      <th>840401</th>\n",
       "      <td>2</td>\n",
       "      <td>2022-12-31 18:16:00-05:00</td>\n",
       "      <td>2022-12-31 18:25:00-05:00</td>\n",
       "      <td>NaN</td>\n",
       "      <td>1.74</td>\n",
       "      <td>NaN</td>\n",
       "      <td>None</td>\n",
       "      <td>17</td>\n",
       "      <td>61</td>\n",
       "      <td>NaN</td>\n",
       "      <td>12.32</td>\n",
       "      <td>0.00</td>\n",
       "      <td>0.0</td>\n",
       "      <td>2.66</td>\n",
       "      <td>0.0</td>\n",
       "      <td>1.0</td>\n",
       "      <td>15.98</td>\n",
       "      <td>NaN</td>\n",
       "    </tr>\n",
       "  </tbody>\n",
       "</table>\n",
       "<p>840402 rows × 18 columns</p>\n",
       "</div>"
      ],
      "text/plain": [
       "        VendorID      lpep_pickup_datetime     lpep_dropoff_datetime  \\\n",
       "0              2 2021-12-31 19:14:21-05:00 2021-12-31 19:15:33-05:00   \n",
       "1              1 2021-12-31 19:20:55-05:00 2021-12-31 19:29:38-05:00   \n",
       "2              1 2021-12-31 19:57:02-05:00 2021-12-31 20:13:14-05:00   \n",
       "3              2 2021-12-31 19:07:42-05:00 2021-12-31 19:15:57-05:00   \n",
       "4              2 2021-12-31 19:07:50-05:00 2021-12-31 19:28:52-05:00   \n",
       "...          ...                       ...                       ...   \n",
       "840397         2 2022-12-31 18:33:00-05:00 2022-12-31 18:49:00-05:00   \n",
       "840398         2 2022-12-31 18:29:00-05:00 2022-12-31 19:01:00-05:00   \n",
       "840399         2 2022-12-31 18:05:00-05:00 2022-12-31 18:12:00-05:00   \n",
       "840400         2 2022-12-31 18:03:00-05:00 2022-12-31 18:18:00-05:00   \n",
       "840401         2 2022-12-31 18:16:00-05:00 2022-12-31 18:25:00-05:00   \n",
       "\n",
       "        passenger_count  trip_distance  RatecodeID store_and_fwd_flag  \\\n",
       "0                   1.0           0.44         1.0                  N   \n",
       "1                   1.0           2.10         1.0                  N   \n",
       "2                   1.0           3.70         1.0                  N   \n",
       "3                   1.0           1.69         1.0                  N   \n",
       "4                   1.0           6.26         1.0                  N   \n",
       "...                 ...            ...         ...                ...   \n",
       "840397              NaN           3.53         NaN               None   \n",
       "840398              NaN           8.94         NaN               None   \n",
       "840399              NaN           1.27         NaN               None   \n",
       "840400              NaN           2.23         NaN               None   \n",
       "840401              NaN           1.74         NaN               None   \n",
       "\n",
       "        PULocationID  DOLocationID  payment_type  fare_amount  extra  mta_tax  \\\n",
       "0                 42            42           2.0         3.50   0.50      0.5   \n",
       "1                116            41           2.0         9.50   0.50      0.5   \n",
       "2                 41           140           1.0        14.50   3.25      0.5   \n",
       "3                181           181           2.0         8.00   0.50      0.5   \n",
       "4                 33           170           1.0        22.00   0.50      0.5   \n",
       "...              ...           ...           ...          ...    ...      ...   \n",
       "840397            33            79           NaN        20.72   0.00      0.0   \n",
       "840398            49           197           NaN        39.01   0.00      0.0   \n",
       "840399            54           181           NaN        12.11   0.00      0.0   \n",
       "840400             7           129           NaN        15.51   0.00      0.0   \n",
       "840401            17            61           NaN        12.32   0.00      0.0   \n",
       "\n",
       "        tip_amount  tolls_amount  improvement_surcharge  total_amount  \\\n",
       "0             0.00           0.0                    0.3          4.80   \n",
       "1             0.00           0.0                    0.3         10.80   \n",
       "2             4.60           0.0                    0.3         23.15   \n",
       "3             0.00           0.0                    0.3          9.30   \n",
       "4             5.21           0.0                    0.3         31.26   \n",
       "...            ...           ...                    ...           ...   \n",
       "840397        4.89           0.0                    1.0         29.36   \n",
       "840398        8.00           0.0                    1.0         48.01   \n",
       "840399        2.62           0.0                    1.0         15.73   \n",
       "840400        3.30           0.0                    1.0         19.81   \n",
       "840401        2.66           0.0                    1.0         15.98   \n",
       "\n",
       "        congestion_surcharge  \n",
       "0                       0.00  \n",
       "1                       0.00  \n",
       "2                       2.75  \n",
       "3                       0.00  \n",
       "4                       2.75  \n",
       "...                      ...  \n",
       "840397                   NaN  \n",
       "840398                   NaN  \n",
       "840399                   NaN  \n",
       "840400                   NaN  \n",
       "840401                   NaN  \n",
       "\n",
       "[840402 rows x 18 columns]"
      ]
     },
     "execution_count": 4,
     "metadata": {},
     "output_type": "execute_result"
    }
   ],
   "source": [
    "import io\n",
    "import pandas as pd\n",
    "import pyarrow as pa\n",
    "import pyarrow.parquet as pq\n",
    "import fsspec\n",
    "import duckdb\n",
    "\n",
    "def load_data_from_api(*args, **kwargs):\n",
    "    \"\"\"\n",
    "\n",
    "    \"\"\"\n",
    "    # setup the vars\n",
    "    taxi_schema = pa.schema([\n",
    "            ('VendorID', pa.int64()),\n",
    "            ('lpep_pickup_datetime', pa.timestamp('us', tz='America/New_York')),\n",
    "            ('lpep_dropoff_datetime', pa.timestamp('us', tz='America/New_York')),            \n",
    "            ('passenger_count', pa.int64()),\n",
    "            ('trip_distance', pa.float64()),\n",
    "            ('RatecodeID', pa.int64()),\n",
    "            ('store_and_fwd_flag', pa.string()),\n",
    "            ('PULocationID', pa.int64()),\n",
    "            ('DOLocationID', pa.int64()),\n",
    "            ('payment_type', pa.int64()),\n",
    "            ('fare_amount', pa.float64()),\n",
    "            ('extra', pa.float64()),\n",
    "            ('mta_tax', pa.float64()),\n",
    "            ('tip_amount', pa.float64()),\n",
    "            ('tolls_amount', pa.float64()),\n",
    "            ('improvement_surcharge', pa.float64()),\n",
    "            ('total_amount', pa.float64()),\n",
    "            ('congestion_surcharge', pa.float64())\n",
    "    ])\n",
    "\n",
    "    months = range(1,13)\n",
    "    year = 2022\n",
    "    colour = 'green' # 'yellow'\n",
    "    base_url=\"https://d37ci6vzurychx.cloudfront.net/trip-data\"\n",
    "    # dtc source for 2019-2021 does not have 2022 data \n",
    "    # ends at 2021-07 and only for csv.gz files, no parquet\n",
    "    # base_url=\"https://github.com/DataTalksClub/nyc-tlc-data/releases/download\"\n",
    "\n",
    "    # Create empty list to store DataFrames\n",
    "    dataframes = []\n",
    "\n",
    "    # Connect to local DuckDB\n",
    "    conn = duckdb.connect(database='ny_taxi_rides', read_only=False)\n",
    "\n",
    "    # Iterate through months and download data\n",
    "    for month in months:\n",
    "        print(month)\n",
    "        \n",
    "        # local files\n",
    "        filename = f\"../../../data/parquet/{colour}_tripdata_{year}-{month:02d}.parquet\" # .csv.gz / parquet\n",
    "        # from nyc source\n",
    "        # https://d37ci6vzurychx.cloudfront.net/trip-data/green_tripdata_2022-01.parquet\n",
    "        # filename = f\"{colour}_tripdata_{year}-{month:02d}.parquet\"\n",
    "        # print(filename)\n",
    "\n",
    "        # url = f\"{base_url}/{filename}\"\n",
    "        # # print(url)\n",
    "\n",
    "        # response = requests.get(url, stream=True)\n",
    "        # if response.status_code == 200:\n",
    "        #     fs = fsspec.filesystem(\"http\")\n",
    "        #     with fs.open(url) as f:\n",
    "        #         table = pq.read_table(f, schema=taxi_schema)\n",
    "\n",
    "        #         # Append DataFrame to the list\n",
    "        #         dataframes.append(table.to_pandas())\n",
    "        #         print(f\"Downloaded {filename} successfully!\")\n",
    "        \n",
    "        # else:\n",
    "        #     print(f\"Failed to download {filename}. Status code: {response.status_code}\")\n",
    "\n",
    "        table = pq.read_table(filename, schema=taxi_schema)\n",
    "\n",
    "        # Append DataFrame to the list\n",
    "        dataframes.append(table.to_pandas())\n",
    "        print(f\" {filename} appended successfully!\")\n",
    "        \n",
    "\n",
    "    # # Concatenate DataFrames\n",
    "    return pd.concat(dataframes, ignore_index=True)\n",
    "\n",
    "df = load_data_from_api()\n",
    "df\n"
   ]
  },
  {
   "cell_type": "markdown",
   "metadata": {},
   "source": [
    "Code transferred to mage Data Loader block."
   ]
  },
  {
   "cell_type": "code",
   "execution_count": 5,
   "metadata": {},
   "outputs": [
    {
     "name": "stdout",
     "output_type": "stream",
     "text": [
      "<class 'pandas.core.frame.DataFrame'>\n",
      "RangeIndex: 840402 entries, 0 to 840401\n",
      "Data columns (total 18 columns):\n",
      " #   Column                 Non-Null Count   Dtype                           \n",
      "---  ------                 --------------   -----                           \n",
      " 0   VendorID               840402 non-null  int64                           \n",
      " 1   lpep_pickup_datetime   840402 non-null  datetime64[us, America/New_York]\n",
      " 2   lpep_dropoff_datetime  840402 non-null  datetime64[us, America/New_York]\n",
      " 3   passenger_count        750062 non-null  float64                         \n",
      " 4   trip_distance          840402 non-null  float64                         \n",
      " 5   RatecodeID             750062 non-null  float64                         \n",
      " 6   store_and_fwd_flag     750062 non-null  object                          \n",
      " 7   PULocationID           840402 non-null  int64                           \n",
      " 8   DOLocationID           840402 non-null  int64                           \n",
      " 9   payment_type           750062 non-null  float64                         \n",
      " 10  fare_amount            840402 non-null  float64                         \n",
      " 11  extra                  840402 non-null  float64                         \n",
      " 12  mta_tax                840402 non-null  float64                         \n",
      " 13  tip_amount             840402 non-null  float64                         \n",
      " 14  tolls_amount           840402 non-null  float64                         \n",
      " 15  improvement_surcharge  840402 non-null  float64                         \n",
      " 16  total_amount           840402 non-null  float64                         \n",
      " 17  congestion_surcharge   750062 non-null  float64                         \n",
      "dtypes: datetime64[us, America/New_York](2), float64(12), int64(3), object(1)\n",
      "memory usage: 115.4+ MB\n"
     ]
    }
   ],
   "source": [
    "df.info()"
   ]
  },
  {
   "cell_type": "code",
   "execution_count": 6,
   "metadata": {},
   "outputs": [
    {
     "data": {
      "text/plain": [
       "lpep_pickup_datetime\n",
       "2022    840105\n",
       "2021       290\n",
       "2008         6\n",
       "2009         1\n",
       "Name: count, dtype: int64"
      ]
     },
     "execution_count": 6,
     "metadata": {},
     "output_type": "execute_result"
    }
   ],
   "source": [
    "pickup_years = df.lpep_pickup_datetime.dt.year\n",
    "pickup_years.value_counts()"
   ]
  },
  {
   "cell_type": "code",
   "execution_count": 7,
   "metadata": {},
   "outputs": [
    {
     "data": {
      "text/plain": [
       "lpep_dropoff_datetime\n",
       "2022    840106\n",
       "2021       284\n",
       "2009         5\n",
       "2023         5\n",
       "2008         2\n",
       "Name: count, dtype: int64"
      ]
     },
     "execution_count": 7,
     "metadata": {},
     "output_type": "execute_result"
    }
   ],
   "source": [
    "dropoff_years = df.lpep_dropoff_datetime.dt.year\n",
    "dropoff_years.value_counts()"
   ]
  },
  {
   "cell_type": "code",
   "execution_count": null,
   "metadata": {
    "vscode": {
     "languageId": "sql"
    }
   },
   "outputs": [],
   "source": [
    "-- import data from `mage-zoomcamp-ellacharmed.nyc_taxi_data.parquet`\n",
    "-- Creating external table referring to gcs path\n",
    "-- code snippet from 03-data-warehouse/big_query.sql\n",
    "CREATE OR REPLACE EXTERNAL TABLE `nyc-rides-ella.ny_taxi.external_green_tripdata`\n",
    "OPTIONS (\n",
    "  format = 'PARQUET',\n",
    "  uris = ['gs://mage-zoomcamp-ellacharmed/nyc_taxi_data.parquet']\n",
    ");"
   ]
  },
  {
   "cell_type": "code",
   "execution_count": null,
   "metadata": {
    "vscode": {
     "languageId": "sql"
    }
   },
   "outputs": [],
   "source": [
    "-- qn1 Create a non partitioned table from external table\n",
    "CREATE OR REPLACE TABLE `nyc-rides-ella.ny_taxi.green_trips_2022_non_partitioned` AS\n",
    "SELECT * \n",
    "FROM `nyc-rides-ella.ny_taxi.external_green_tripdata`;"
   ]
  },
  {
   "cell_type": "code",
   "execution_count": null,
   "metadata": {
    "vscode": {
     "languageId": "sql"
    }
   },
   "outputs": [],
   "source": [
    "-- confirm row count is same from mage\n",
    "SELECT COUNT(*) FROM `nyc-rides-ella.ny_taxi.external_green_tripdata`;"
   ]
  },
  {
   "cell_type": "code",
   "execution_count": null,
   "metadata": {
    "vscode": {
     "languageId": "sql"
    }
   },
   "outputs": [],
   "source": [
    "-- confirm row count is same external table\n",
    "SELECT COUNT(*) FROM `nyc-rides-ella.ny_taxi.green_trips_2022_non_partitioned`;"
   ]
  },
  {
   "cell_type": "markdown",
   "metadata": {},
   "source": [
    "## Question 2: estimated data amount\n",
    "\n",
    "### Answer 2: `0 MB for the External Table and 6.41MB for the Materialized Table`\n",
    "\n",
    "Write a query to count the distinct number of PULocationIDs for the entire dataset on both the tables.</br> \n",
    "What is the estimated amount of data that will be read when this query is executed on the External Table and the Table?\n",
    "\n",
    "- 0 MB for the External Table and 6.41MB for the Materialized Table\n",
    "- 18.82 MB for the External Table and 47.60 MB for the Materialized Table\n",
    "- 0 MB for the External Table and 0MB for the Materialized Table\n",
    "- 2.14 MB for the External Table and 0MB for the Materialized Table"
   ]
  },
  {
   "cell_type": "code",
   "execution_count": null,
   "metadata": {
    "vscode": {
     "languageId": "sql"
    }
   },
   "outputs": [],
   "source": [
    "-- qn 2, turn off cache results in query settins, select and view estimate\n",
    "SELECT DISTINCT(PULocationID) \n",
    "FROM `nyc-rides-ella.ny_taxi.external_green_tripdata`;\n",
    "-- shows 0B estimated, 6.41MB processed, 10MB billed\n",
    "\n",
    "SELECT DISTINCT(PULocationID) \n",
    "FROM `nyc-rides-ella.ny_taxi.green_trips_2022_non_partitioned`;\n",
    "-- shows 6.41MB estimated, 6.41MB processed, 10MB billed"
   ]
  },
  {
   "cell_type": "markdown",
   "metadata": {},
   "source": [
    "## Question 3:\n",
    "### Answer 3: `1,622`\n",
    "How many records have a fare_amount of 0?\n",
    "- 12,488\n",
    "- 128,219\n",
    "- 112\n",
    "- 1,622"
   ]
  },
  {
   "cell_type": "code",
   "execution_count": null,
   "metadata": {
    "vscode": {
     "languageId": "sql"
    }
   },
   "outputs": [],
   "source": [
    "-- qn 3 row count for trips with 0 fare_amount\n",
    "SELECT COUNT(*)\n",
    "FROM `nyc-rides-ella.ny_taxi.green_trips_2022_non_partitioned`\n",
    "WHERE fare_amount=0;"
   ]
  },
  {
   "cell_type": "markdown",
   "metadata": {},
   "source": [
    "## Question 4:\n",
    "### Answer 4: `Partition by lpep_pickup_datetime  Cluster on PUlocationID`\n",
    "\n",
    "What is the best strategy to make an optimized table in Big Query if your query will always order the results by PUlocationID and filter based on lpep_pickup_datetime? (Create a new table with this strategy)\n",
    "\n",
    "- Cluster on lpep_pickup_datetime Partition by PUlocationID\n",
    "- Partition by lpep_pickup_datetime  Cluster on PUlocationID\n",
    "- Partition by lpep_pickup_datetime and Partition by PUlocationID\n",
    "- Cluster on by lpep_pickup_datetime and Cluster on PUlocationID"
   ]
  },
  {
   "cell_type": "code",
   "execution_count": null,
   "metadata": {
    "vscode": {
     "languageId": "sql"
    }
   },
   "outputs": [],
   "source": [
    "-- qn 4 create table with the strategy:\n",
    "-- Partition by lpep_pickup_datetime  Cluster on PUlocationID\n",
    "CREATE OR REPLACE TABLE `nyc-rides-ella.ny_taxi.green_trips_2022_optimized`\n",
    "PARTITION BY DATE(lpep_pickup_dt)\n",
    "CLUSTER BY PUlocationID AS\n",
    "SELECT *, \n",
    "  TIMESTAMP_MICROS(CAST(lpep_pickup_datetime / 1000 AS INT64)) AS lpep_pickup_dt, \n",
    "  TIMESTAMP_MICROS(CAST(lpep_dropoff_datetime / 1000 AS INT64)) AS lpep_dropoff_dt \n",
    "FROM `nyc-rides-ella.ny_taxi.green_trips_2022_non_partitioned`;"
   ]
  },
  {
   "cell_type": "markdown",
   "metadata": {},
   "source": [
    "## Question 5:\n",
    "### Answer 5: `12.82 MB for non-partitioned table and 1.12 MB for the partitioned table`\n",
    "\n",
    "Write a query to retrieve the distinct PULocationID between lpep_pickup_datetime\n",
    "06/01/2022 and 06/30/2022 (inclusive)</br>\n",
    "\n",
    "Use the materialized table you created earlier in your from clause and note the estimated bytes. Now change the table in the from clause to the partitioned table you created for question 4 and note the estimated bytes processed. What are these values? </br>\n",
    "\n",
    "Choose the answer which most closely matches.</br> \n",
    "\n",
    "- 22.82 MB for non-partitioned table and 647.87 MB for the partitioned table\n",
    "- 12.82 MB for non-partitioned table and 1.12 MB for the partitioned table\n",
    "- 5.63 MB for non-partitioned table and 0 MB for the partitioned table\n",
    "- 10.31 MB for non-partitioned table and 10.31 MB for the partitioned table"
   ]
  },
  {
   "cell_type": "code",
   "execution_count": null,
   "metadata": {
    "vscode": {
     "languageId": "sql"
    }
   },
   "outputs": [],
   "source": [
    "SELECT UNIX_MICROS(TIMESTAMP \"2022-06-01 00:00:00-05\") AS start_date;\n",
    "SELECT UNIX_MICROS(TIMESTAMP \"2022-07-01 00:00:00-05\")  AS end_date;\n",
    "\n",
    "SELECT \n",
    "  DISTINCT(PULocationID)\n",
    "  -- TIMESTAMP_TRUNC(lpep_pickup_datetime, DAY, \"America/New_York\") AS start_date,\n",
    "  -- TIMESTAMP_TRUNC(lpep_pickup_datetime, DAY, \"America/New_York\") AS end_date\n",
    "FROM \n",
    "  `nyc-rides-ella.ny_taxi.green_trips_2022_non_partitioned`\n",
    "WHERE \n",
    "  lpep_pickup_datetime >= 1654059600000000\n",
    "  and \n",
    "  lpep_pickup_datetime <= 1656651600000000\n",
    ";"
   ]
  },
  {
   "cell_type": "markdown",
   "metadata": {},
   "source": [
    "ToDo How to do the above in one SQL query?"
   ]
  },
  {
   "cell_type": "code",
   "execution_count": null,
   "metadata": {
    "vscode": {
     "languageId": "sql"
    }
   },
   "outputs": [],
   "source": [
    "SELECT \n",
    "  DISTINCT(PULocationID)\n",
    "  -- TIMESTAMP(\"2022-06-01 00:00:00\", \"America/New_York\") AS start_dt,\n",
    "  -- TIMESTAMP(\"2022-07-01 00:00:00\", \"America/New_York\") AS end_dt\n",
    "FROM `nyc-rides-ella.ny_taxi.green_trips_2022_optimized`\n",
    "WHERE \n",
    "  lpep_pickup_dt >= TIMESTAMP(\"2022-06-01 00:00:00\", \"America/New_York\") and \n",
    "  lpep_pickup_dt <= TIMESTAMP(\"2022-07-01 00:00:00\", \"America/New_York\")\n",
    ";"
   ]
  },
  {
   "cell_type": "markdown",
   "metadata": {},
   "source": [
    "## Question 6: \n",
    "### Answer 6: `GCP Bucket`\n",
    "\n",
    "Where is the data stored in the External Table you created?\n",
    "\n",
    "- Big Query\n",
    "- GCP Bucket\n",
    "- Big Table\n",
    "- Container Registry"
   ]
  },
  {
   "cell_type": "markdown",
   "metadata": {},
   "source": [
    "## Question 7:\n",
    "### Answer 7: `False`\n",
    "\n",
    "It is best practice in Big Query to always cluster your data:\n",
    "- True\n",
    "- False"
   ]
  },
  {
   "cell_type": "markdown",
   "metadata": {},
   "source": [
    "## (Bonus: Not worth points) Question 8:\n",
    "\n",
    "No Points: Write a `SELECT count(*)` query FROM the materialized table you created. How many bytes does it estimate will be read? Why?"
   ]
  },
  {
   "cell_type": "markdown",
   "metadata": {},
   "source": [
    "- BigQuery already has the answer so no extra processing is required\n",
    "- the estimate may be due to caching?"
   ]
  },
  {
   "cell_type": "markdown",
   "metadata": {},
   "source": [
    "## Submitting the solutions\n",
    "\n",
    "* Form for submitting: https://courses.datatalks.club/de-zoomcamp-2024/homework/hw3\n"
   ]
  }
 ],
 "metadata": {
  "kernelspec": {
   "display_name": "Python 3",
   "language": "python",
   "name": "python3"
  },
  "language_info": {
   "codemirror_mode": {
    "name": "ipython",
    "version": 3
   },
   "file_extension": ".py",
   "mimetype": "text/x-python",
   "name": "python",
   "nbconvert_exporter": "python",
   "pygments_lexer": "ipython3",
   "version": "3.11.8"
  }
 },
 "nbformat": 4,
 "nbformat_minor": 2
}
