{
 "cells": [
  {
   "cell_type": "markdown",
   "metadata": {},
   "source": [
    "# Week 2 Homework\n",
    "\n",
    "For the homework, we'll be working with the _green_ taxi dataset located here:\n",
    "\n",
    "`https://github.com/DataTalksClub/nyc-tlc-data/releases/download/green`\n",
    "\n",
    "Mage project folders is in PROJECT_NAME=`hmwk-02`, with these folders pushed to github.\n",
    "\n",
    "```\n",
    ".\n",
    "├── data_exporters\n",
    "├── data_loaders\n",
    "├── pipelines\n",
    "├── transformers\n",
    "```"
   ]
  },
  {
   "cell_type": "code",
   "execution_count": 2,
   "metadata": {},
   "outputs": [
    {
     "name": "stdout",
     "output_type": "stream",
     "text": [
      "\u001b[34;42m.\u001b[0m\n",
      "├── \u001b[01;32mDockerfile\u001b[0m\n",
      "├── \u001b[01;32mdocker-compose.yml\u001b[0m\n",
      "├── \u001b[34;42mhmwk-02\u001b[0m\n",
      "├── \u001b[01;32mhomework-02.ipynb\u001b[0m\n",
      "├── \u001b[01;32mhomework.md\u001b[0m\n",
      "├── \u001b[34;42mimages\u001b[0m\n",
      "├── \u001b[34;42mmage_data\u001b[0m\n",
      "├── \u001b[01;32mrequirements.txt\u001b[0m\n",
      "└── \u001b[01;32mwalkthrough-02.md\u001b[0m\n",
      "\n",
      "3 directories, 6 files\n"
     ]
    }
   ],
   "source": [
    "!tree . -L 1"
   ]
  },
  {
   "cell_type": "markdown",
   "metadata": {},
   "source": [
    "### Assignment\n",
    "\n",
    "The goal will be to construct an ETL pipeline that loads the data, performs some transformations, and writes the data to a database (and Google Cloud!).\n",
    "\n",
    "- Create a new pipeline, call it `green_taxi_etl`\n",
    "- Add a data loader block and use Pandas to read data for the final quarter of 2020 (months `10`, `11`, `12`).\n",
    "  - You can use the same datatypes and date parsing methods shown in the course.\n",
    "  - `BONUS`: load the final three months using a for loop and `pd.concat`\n",
    "- Add a transformer block and perform the following:\n",
    "  - Remove rows where the passenger count is equal to 0 _or_ the trip distance is equal to zero.\n",
    "  - Create a new column `lpep_pickup_date` by converting `lpep_pickup_datetime` to a date.\n",
    "  - Rename columns in Camel Case to Snake Case, e.g. `VendorID` to `vendor_id`.\n",
    "  - Add three assertions:\n",
    "    - `vendor_id` is one of the existing values in the column (currently)\n",
    "    - `passenger_count` is greater than 0\n",
    "    - `trip_distance` is greater than 0\n",
    "- Using a Postgres data exporter (SQL or Python), write the dataset to a table called `green_taxi` in a schema `mage`. Replace the table if it already exists.\n",
    "- Write your data as Parquet files to a bucket in GCP, partioned by `lpep_pickup_date`. Use the `pyarrow` library!\n",
    "- Schedule your pipeline to run daily at 5AM UTC."
   ]
  },
  {
   "cell_type": "markdown",
   "metadata": {
    "notebookRunGroups": {
     "groupValue": "1"
    }
   },
   "source": [
    "Observe the pattern in the filenames.\n",
    "\n",
    "https://github.com/DataTalksClub/nyc-tlc-data/releases/download/green/green_tripdata_2020-10.csv.gz\n",
    "https://github.com/DataTalksClub/nyc-tlc-data/releases/download/green/green_tripdata_2020-11.csv.gz\n",
    "https://github.com/DataTalksClub/nyc-tlc-data/releases/download/green/green_tripdata_2020-12.csv.gz"
   ]
  },
  {
   "cell_type": "code",
   "execution_count": 1,
   "metadata": {
    "notebookRunGroups": {
     "groupValue": "1"
    }
   },
   "outputs": [],
   "source": [
    "import io\n",
    "import pandas as pd\n",
    "import requests"
   ]
  },
  {
   "cell_type": "markdown",
   "metadata": {},
   "source": [
    "Initial test for manual ingestion."
   ]
  },
  {
   "cell_type": "code",
   "execution_count": 2,
   "metadata": {
    "notebookRunGroups": {
     "groupValue": "1"
    }
   },
   "outputs": [],
   "source": [
    "taxi_dtypes = {\n",
    "            'VendorID': pd.Int64Dtype(),\n",
    "            'passenger_count': pd.Int64Dtype(),\n",
    "            'trip_distance': float,\n",
    "            'RatecodeID':pd.Int64Dtype(),\n",
    "            'store_and_fwd_flag':str,\n",
    "            'PULocationID':pd.Int64Dtype(),\n",
    "            'DOLocationID':pd.Int64Dtype(),\n",
    "            'payment_type': pd.Int64Dtype(),\n",
    "            'fare_amount': float,\n",
    "            'extra':float,\n",
    "            'mta_tax':float,\n",
    "            'tip_amount':float,\n",
    "            'tolls_amount':float,\n",
    "            'improvement_surcharge':float,\n",
    "            'total_amount':float,\n",
    "            'congestion_surcharge':float\n",
    "        }\n",
    "\n",
    "# native date parsing \n",
    "parse_dates = ['lpep_pickup_datetime', 'lpep_dropoff_datetime']\n",
    "\n",
    "months = [10, 11, 12]\n",
    "year = 2020\n",
    "colour = 'green'\n",
    "base_url=\"https://github.com/DataTalksClub/nyc-tlc-data/releases/download\"\n",
    "\n",
    "# Create empty list to store DataFrames\n",
    "dataframes = []"
   ]
  },
  {
   "cell_type": "code",
   "execution_count": 7,
   "metadata": {
    "notebookRunGroups": {
     "groupValue": ""
    }
   },
   "outputs": [],
   "source": [
    "# manully looping through 10, 11, 12\n",
    "# oct_2020, nov_2020, dec_2020\n",
    "\n",
    "url='https://github.com/DataTalksClub/nyc-tlc-data/releases/download/green/green_tripdata_2020-12.csv.gz'\n",
    "\n",
    "dec_2020 = pd.read_csv(\n",
    "            url\n",
    "            , sep=','\n",
    "            , compression='gzip'\n",
    "            , dtype=taxi_dtypes\n",
    "            , parse_dates=parse_dates\n",
    "        ) \n"
   ]
  },
  {
   "cell_type": "code",
   "execution_count": 5,
   "metadata": {
    "notebookRunGroups": {
     "groupValue": ""
    }
   },
   "outputs": [
    {
     "data": {
      "text/plain": [
       "Index(['VendorID', 'lpep_pickup_datetime', 'lpep_dropoff_datetime',\n",
       "       'store_and_fwd_flag', 'RatecodeID', 'PULocationID', 'DOLocationID',\n",
       "       'passenger_count', 'trip_distance', 'fare_amount', 'extra', 'mta_tax',\n",
       "       'tip_amount', 'tolls_amount', 'ehail_fee', 'improvement_surcharge',\n",
       "       'total_amount', 'payment_type', 'trip_type', 'congestion_surcharge'],\n",
       "      dtype='object')"
      ]
     },
     "execution_count": 5,
     "metadata": {},
     "output_type": "execute_result"
    }
   ],
   "source": [
    "oct_2020.columns"
   ]
  },
  {
   "cell_type": "code",
   "execution_count": 8,
   "metadata": {
    "notebookRunGroups": {
     "groupValue": ""
    }
   },
   "outputs": [
    {
     "name": "stdout",
     "output_type": "stream",
     "text": [
      "(83130, 20)\n",
      "(88605, 20)\n",
      "(95120, 20)\n"
     ]
    }
   ],
   "source": [
    "# Run above manually 3x before running this cell\n",
    "print(dec_2020.shape)\n",
    "print(nov_2020.shape)\n",
    "print(oct_2020.shape)"
   ]
  },
  {
   "cell_type": "code",
   "execution_count": 9,
   "metadata": {},
   "outputs": [
    {
     "data": {
      "text/plain": [
       "266855"
      ]
     },
     "execution_count": 9,
     "metadata": {},
     "output_type": "execute_result"
    }
   ],
   "source": [
    "dec_2020.shape[0] + nov_2020.shape[0] + oct_2020.shape[0]"
   ]
  },
  {
   "cell_type": "markdown",
   "metadata": {},
   "source": [
    "Using a for-loop for ingestion.\n",
    "Succesful code used in [data_loaders load_api block](./hmwk-02/data_loaders/load_api_green_data.py)"
   ]
  },
  {
   "cell_type": "code",
   "execution_count": 10,
   "metadata": {},
   "outputs": [
    {
     "name": "stdout",
     "output_type": "stream",
     "text": [
      "10\n",
      "green_tripdata_2020-10.csv.gz\n",
      "https://github.com/DataTalksClub/nyc-tlc-data/releases/download/green/green_tripdata_2020-10.csv.gz\n",
      "Downloaded green_tripdata_2020-10.csv.gz successfully!\n",
      "11\n",
      "green_tripdata_2020-11.csv.gz\n",
      "https://github.com/DataTalksClub/nyc-tlc-data/releases/download/green/green_tripdata_2020-11.csv.gz\n",
      "Downloaded green_tripdata_2020-11.csv.gz successfully!\n",
      "12\n",
      "green_tripdata_2020-12.csv.gz\n",
      "https://github.com/DataTalksClub/nyc-tlc-data/releases/download/green/green_tripdata_2020-12.csv.gz\n",
      "Downloaded green_tripdata_2020-12.csv.gz successfully!\n"
     ]
    }
   ],
   "source": [
    "# Iterate through months and download data\n",
    "for month in months:\n",
    "    print(month)\n",
    "    \n",
    "    filename = f\"{colour}_tripdata_{year}-{month:02d}.csv.gz\"\n",
    "    print(filename)\n",
    "\n",
    "    url = f\"{base_url}/{colour}/{filename}\"\n",
    "    print(url)\n",
    "    \n",
    "    response = requests.get(url, stream=True)\n",
    "\n",
    "    if response.status_code == 200:\n",
    "      df = pd.read_csv(\n",
    "         url\n",
    "         , sep=','\n",
    "         , compression='gzip'\n",
    "         , dtype=taxi_dtypes\n",
    "         , parse_dates=parse_dates\n",
    "      ) \n",
    "\n",
    "      # Append DataFrame to the list\n",
    "      dataframes.append(df)\n",
    "      print(f\"Downloaded {filename} successfully!\")\n",
    "      \n",
    "    else:\n",
    "      print(f\"Failed to download {filename}. Status code: {response.status_code}\")\n"
   ]
  },
  {
   "cell_type": "code",
   "execution_count": 11,
   "metadata": {},
   "outputs": [],
   "source": [
    "# Concatenate DataFrames\n",
    "combined_df = pd.concat(dataframes, ignore_index=True)\n"
   ]
  },
  {
   "cell_type": "code",
   "execution_count": 12,
   "metadata": {},
   "outputs": [
    {
     "data": {
      "text/html": [
       "<div>\n",
       "<style scoped>\n",
       "    .dataframe tbody tr th:only-of-type {\n",
       "        vertical-align: middle;\n",
       "    }\n",
       "\n",
       "    .dataframe tbody tr th {\n",
       "        vertical-align: top;\n",
       "    }\n",
       "\n",
       "    .dataframe thead th {\n",
       "        text-align: right;\n",
       "    }\n",
       "</style>\n",
       "<table border=\"1\" class=\"dataframe\">\n",
       "  <thead>\n",
       "    <tr style=\"text-align: right;\">\n",
       "      <th></th>\n",
       "      <th>VendorID</th>\n",
       "      <th>lpep_pickup_datetime</th>\n",
       "      <th>lpep_dropoff_datetime</th>\n",
       "      <th>store_and_fwd_flag</th>\n",
       "      <th>RatecodeID</th>\n",
       "      <th>PULocationID</th>\n",
       "      <th>DOLocationID</th>\n",
       "      <th>passenger_count</th>\n",
       "      <th>trip_distance</th>\n",
       "      <th>fare_amount</th>\n",
       "      <th>extra</th>\n",
       "      <th>mta_tax</th>\n",
       "      <th>tip_amount</th>\n",
       "      <th>tolls_amount</th>\n",
       "      <th>ehail_fee</th>\n",
       "      <th>improvement_surcharge</th>\n",
       "      <th>total_amount</th>\n",
       "      <th>payment_type</th>\n",
       "      <th>trip_type</th>\n",
       "      <th>congestion_surcharge</th>\n",
       "    </tr>\n",
       "  </thead>\n",
       "  <tbody>\n",
       "    <tr>\n",
       "      <th>166699</th>\n",
       "      <td>&lt;NA&gt;</td>\n",
       "      <td>2020-11-09 06:52:00</td>\n",
       "      <td>2020-11-09 07:29:00</td>\n",
       "      <td>NaN</td>\n",
       "      <td>&lt;NA&gt;</td>\n",
       "      <td>155</td>\n",
       "      <td>223</td>\n",
       "      <td>&lt;NA&gt;</td>\n",
       "      <td>19.81</td>\n",
       "      <td>55.64</td>\n",
       "      <td>0.0</td>\n",
       "      <td>0.0</td>\n",
       "      <td>2.75</td>\n",
       "      <td>6.12</td>\n",
       "      <td>NaN</td>\n",
       "      <td>0.3</td>\n",
       "      <td>64.81</td>\n",
       "      <td>&lt;NA&gt;</td>\n",
       "      <td>NaN</td>\n",
       "      <td>NaN</td>\n",
       "    </tr>\n",
       "    <tr>\n",
       "      <th>239183</th>\n",
       "      <td>&lt;NA&gt;</td>\n",
       "      <td>2020-12-07 17:09:00</td>\n",
       "      <td>2020-12-07 17:37:00</td>\n",
       "      <td>NaN</td>\n",
       "      <td>&lt;NA&gt;</td>\n",
       "      <td>116</td>\n",
       "      <td>250</td>\n",
       "      <td>&lt;NA&gt;</td>\n",
       "      <td>8.20</td>\n",
       "      <td>39.95</td>\n",
       "      <td>0.0</td>\n",
       "      <td>0.0</td>\n",
       "      <td>2.75</td>\n",
       "      <td>0.00</td>\n",
       "      <td>NaN</td>\n",
       "      <td>0.3</td>\n",
       "      <td>43.00</td>\n",
       "      <td>&lt;NA&gt;</td>\n",
       "      <td>NaN</td>\n",
       "      <td>NaN</td>\n",
       "    </tr>\n",
       "    <tr>\n",
       "      <th>135864</th>\n",
       "      <td>2</td>\n",
       "      <td>2020-11-25 12:47:19</td>\n",
       "      <td>2020-11-25 12:47:57</td>\n",
       "      <td>N</td>\n",
       "      <td>1</td>\n",
       "      <td>74</td>\n",
       "      <td>74</td>\n",
       "      <td>1</td>\n",
       "      <td>0.07</td>\n",
       "      <td>-2.50</td>\n",
       "      <td>0.0</td>\n",
       "      <td>-0.5</td>\n",
       "      <td>0.00</td>\n",
       "      <td>0.00</td>\n",
       "      <td>NaN</td>\n",
       "      <td>-0.3</td>\n",
       "      <td>-3.30</td>\n",
       "      <td>3</td>\n",
       "      <td>1.0</td>\n",
       "      <td>0.00</td>\n",
       "    </tr>\n",
       "    <tr>\n",
       "      <th>116494</th>\n",
       "      <td>2</td>\n",
       "      <td>2020-11-13 15:50:47</td>\n",
       "      <td>2020-11-13 16:03:28</td>\n",
       "      <td>N</td>\n",
       "      <td>1</td>\n",
       "      <td>43</td>\n",
       "      <td>263</td>\n",
       "      <td>5</td>\n",
       "      <td>1.45</td>\n",
       "      <td>9.50</td>\n",
       "      <td>0.0</td>\n",
       "      <td>0.5</td>\n",
       "      <td>2.61</td>\n",
       "      <td>0.00</td>\n",
       "      <td>NaN</td>\n",
       "      <td>0.3</td>\n",
       "      <td>15.66</td>\n",
       "      <td>1</td>\n",
       "      <td>1.0</td>\n",
       "      <td>2.75</td>\n",
       "    </tr>\n",
       "    <tr>\n",
       "      <th>53837</th>\n",
       "      <td>&lt;NA&gt;</td>\n",
       "      <td>2020-10-09 09:40:00</td>\n",
       "      <td>2020-10-09 09:51:00</td>\n",
       "      <td>NaN</td>\n",
       "      <td>&lt;NA&gt;</td>\n",
       "      <td>51</td>\n",
       "      <td>242</td>\n",
       "      <td>&lt;NA&gt;</td>\n",
       "      <td>3.46</td>\n",
       "      <td>12.84</td>\n",
       "      <td>0.0</td>\n",
       "      <td>0.0</td>\n",
       "      <td>2.75</td>\n",
       "      <td>6.12</td>\n",
       "      <td>NaN</td>\n",
       "      <td>0.3</td>\n",
       "      <td>22.01</td>\n",
       "      <td>&lt;NA&gt;</td>\n",
       "      <td>NaN</td>\n",
       "      <td>NaN</td>\n",
       "    </tr>\n",
       "    <tr>\n",
       "      <th>91827</th>\n",
       "      <td>&lt;NA&gt;</td>\n",
       "      <td>2020-10-30 16:07:00</td>\n",
       "      <td>2020-10-30 16:11:00</td>\n",
       "      <td>NaN</td>\n",
       "      <td>&lt;NA&gt;</td>\n",
       "      <td>97</td>\n",
       "      <td>97</td>\n",
       "      <td>&lt;NA&gt;</td>\n",
       "      <td>0.29</td>\n",
       "      <td>12.89</td>\n",
       "      <td>0.0</td>\n",
       "      <td>0.0</td>\n",
       "      <td>2.75</td>\n",
       "      <td>0.00</td>\n",
       "      <td>NaN</td>\n",
       "      <td>0.3</td>\n",
       "      <td>15.94</td>\n",
       "      <td>&lt;NA&gt;</td>\n",
       "      <td>NaN</td>\n",
       "      <td>NaN</td>\n",
       "    </tr>\n",
       "    <tr>\n",
       "      <th>190997</th>\n",
       "      <td>2</td>\n",
       "      <td>2020-12-04 22:55:16</td>\n",
       "      <td>2020-12-04 23:06:04</td>\n",
       "      <td>N</td>\n",
       "      <td>1</td>\n",
       "      <td>74</td>\n",
       "      <td>151</td>\n",
       "      <td>1</td>\n",
       "      <td>1.90</td>\n",
       "      <td>9.50</td>\n",
       "      <td>0.5</td>\n",
       "      <td>0.5</td>\n",
       "      <td>2.00</td>\n",
       "      <td>0.00</td>\n",
       "      <td>NaN</td>\n",
       "      <td>0.3</td>\n",
       "      <td>12.80</td>\n",
       "      <td>1</td>\n",
       "      <td>1.0</td>\n",
       "      <td>0.00</td>\n",
       "    </tr>\n",
       "    <tr>\n",
       "      <th>129264</th>\n",
       "      <td>2</td>\n",
       "      <td>2020-11-21 10:17:20</td>\n",
       "      <td>2020-11-21 10:32:10</td>\n",
       "      <td>N</td>\n",
       "      <td>1</td>\n",
       "      <td>97</td>\n",
       "      <td>62</td>\n",
       "      <td>1</td>\n",
       "      <td>3.31</td>\n",
       "      <td>13.50</td>\n",
       "      <td>0.0</td>\n",
       "      <td>0.5</td>\n",
       "      <td>2.86</td>\n",
       "      <td>0.00</td>\n",
       "      <td>NaN</td>\n",
       "      <td>0.3</td>\n",
       "      <td>17.16</td>\n",
       "      <td>1</td>\n",
       "      <td>1.0</td>\n",
       "      <td>0.00</td>\n",
       "    </tr>\n",
       "    <tr>\n",
       "      <th>67745</th>\n",
       "      <td>&lt;NA&gt;</td>\n",
       "      <td>2020-10-21 13:53:00</td>\n",
       "      <td>2020-10-21 14:17:00</td>\n",
       "      <td>NaN</td>\n",
       "      <td>&lt;NA&gt;</td>\n",
       "      <td>95</td>\n",
       "      <td>129</td>\n",
       "      <td>&lt;NA&gt;</td>\n",
       "      <td>3.10</td>\n",
       "      <td>15.89</td>\n",
       "      <td>0.0</td>\n",
       "      <td>0.0</td>\n",
       "      <td>2.75</td>\n",
       "      <td>0.00</td>\n",
       "      <td>NaN</td>\n",
       "      <td>0.3</td>\n",
       "      <td>18.94</td>\n",
       "      <td>&lt;NA&gt;</td>\n",
       "      <td>NaN</td>\n",
       "      <td>NaN</td>\n",
       "    </tr>\n",
       "    <tr>\n",
       "      <th>126327</th>\n",
       "      <td>2</td>\n",
       "      <td>2020-11-19 16:02:34</td>\n",
       "      <td>2020-11-19 16:02:38</td>\n",
       "      <td>N</td>\n",
       "      <td>1</td>\n",
       "      <td>7</td>\n",
       "      <td>7</td>\n",
       "      <td>1</td>\n",
       "      <td>0.00</td>\n",
       "      <td>2.50</td>\n",
       "      <td>0.0</td>\n",
       "      <td>0.5</td>\n",
       "      <td>0.00</td>\n",
       "      <td>0.00</td>\n",
       "      <td>NaN</td>\n",
       "      <td>0.3</td>\n",
       "      <td>3.30</td>\n",
       "      <td>2</td>\n",
       "      <td>1.0</td>\n",
       "      <td>0.00</td>\n",
       "    </tr>\n",
       "  </tbody>\n",
       "</table>\n",
       "</div>"
      ],
      "text/plain": [
       "        VendorID lpep_pickup_datetime lpep_dropoff_datetime  \\\n",
       "166699      <NA>  2020-11-09 06:52:00   2020-11-09 07:29:00   \n",
       "239183      <NA>  2020-12-07 17:09:00   2020-12-07 17:37:00   \n",
       "135864         2  2020-11-25 12:47:19   2020-11-25 12:47:57   \n",
       "116494         2  2020-11-13 15:50:47   2020-11-13 16:03:28   \n",
       "53837       <NA>  2020-10-09 09:40:00   2020-10-09 09:51:00   \n",
       "91827       <NA>  2020-10-30 16:07:00   2020-10-30 16:11:00   \n",
       "190997         2  2020-12-04 22:55:16   2020-12-04 23:06:04   \n",
       "129264         2  2020-11-21 10:17:20   2020-11-21 10:32:10   \n",
       "67745       <NA>  2020-10-21 13:53:00   2020-10-21 14:17:00   \n",
       "126327         2  2020-11-19 16:02:34   2020-11-19 16:02:38   \n",
       "\n",
       "       store_and_fwd_flag  RatecodeID  PULocationID  DOLocationID  \\\n",
       "166699                NaN        <NA>           155           223   \n",
       "239183                NaN        <NA>           116           250   \n",
       "135864                  N           1            74            74   \n",
       "116494                  N           1            43           263   \n",
       "53837                 NaN        <NA>            51           242   \n",
       "91827                 NaN        <NA>            97            97   \n",
       "190997                  N           1            74           151   \n",
       "129264                  N           1            97            62   \n",
       "67745                 NaN        <NA>            95           129   \n",
       "126327                  N           1             7             7   \n",
       "\n",
       "        passenger_count  trip_distance  fare_amount  extra  mta_tax  \\\n",
       "166699             <NA>          19.81        55.64    0.0      0.0   \n",
       "239183             <NA>           8.20        39.95    0.0      0.0   \n",
       "135864                1           0.07        -2.50    0.0     -0.5   \n",
       "116494                5           1.45         9.50    0.0      0.5   \n",
       "53837              <NA>           3.46        12.84    0.0      0.0   \n",
       "91827              <NA>           0.29        12.89    0.0      0.0   \n",
       "190997                1           1.90         9.50    0.5      0.5   \n",
       "129264                1           3.31        13.50    0.0      0.5   \n",
       "67745              <NA>           3.10        15.89    0.0      0.0   \n",
       "126327                1           0.00         2.50    0.0      0.5   \n",
       "\n",
       "        tip_amount  tolls_amount  ehail_fee  improvement_surcharge  \\\n",
       "166699        2.75          6.12        NaN                    0.3   \n",
       "239183        2.75          0.00        NaN                    0.3   \n",
       "135864        0.00          0.00        NaN                   -0.3   \n",
       "116494        2.61          0.00        NaN                    0.3   \n",
       "53837         2.75          6.12        NaN                    0.3   \n",
       "91827         2.75          0.00        NaN                    0.3   \n",
       "190997        2.00          0.00        NaN                    0.3   \n",
       "129264        2.86          0.00        NaN                    0.3   \n",
       "67745         2.75          0.00        NaN                    0.3   \n",
       "126327        0.00          0.00        NaN                    0.3   \n",
       "\n",
       "        total_amount  payment_type  trip_type  congestion_surcharge  \n",
       "166699         64.81          <NA>        NaN                   NaN  \n",
       "239183         43.00          <NA>        NaN                   NaN  \n",
       "135864         -3.30             3        1.0                  0.00  \n",
       "116494         15.66             1        1.0                  2.75  \n",
       "53837          22.01          <NA>        NaN                   NaN  \n",
       "91827          15.94          <NA>        NaN                   NaN  \n",
       "190997         12.80             1        1.0                  0.00  \n",
       "129264         17.16             1        1.0                  0.00  \n",
       "67745          18.94          <NA>        NaN                   NaN  \n",
       "126327          3.30             2        1.0                  0.00  "
      ]
     },
     "execution_count": 12,
     "metadata": {},
     "output_type": "execute_result"
    }
   ],
   "source": [
    "combined_df.sample(10)"
   ]
  },
  {
   "cell_type": "markdown",
   "metadata": {},
   "source": [
    "### Questions\n",
    "\n",
    "## Question 1. Data Loading\n",
    "\n",
    "### Answer 1: `266,855 rows x 20 columns`\n",
    "\n",
    "Once the dataset is loaded, what's the shape of the data?\n",
    "\n",
    "* 266,855 rows x 20 columns\n",
    "* 544,898 rows x 18 columns\n",
    "* 544,898 rows x 20 columns\n",
    "* 133,744 rows x 20 columns"
   ]
  },
  {
   "cell_type": "code",
   "execution_count": 13,
   "metadata": {},
   "outputs": [
    {
     "name": "stdout",
     "output_type": "stream",
     "text": [
      "(266855, 20)\n"
     ]
    }
   ],
   "source": [
    "# Print the final DataFrame\n",
    "print(combined_df.shape)"
   ]
  },
  {
   "cell_type": "markdown",
   "metadata": {},
   "source": [
    "## Question 2. Data Transformation\n",
    "\n",
    "### Answer 2: `139,370 rows`\n",
    "\n",
    "Upon filtering the dataset where the passenger count is equal to 0 _or_ the trip distance is equal to zero, how many rows are left?\n",
    "\n",
    "* 544,897 rows\n",
    "* 266,855 rows\n",
    "* 139,370 rows\n",
    "* 266,856 rows"
   ]
  },
  {
   "cell_type": "code",
   "execution_count": 14,
   "metadata": {},
   "outputs": [
    {
     "name": "stdout",
     "output_type": "stream",
     "text": [
      "(266855, 20)\n",
      "Rows with out passengers: 120123\n",
      "Rows with 0 trip_distance: 7362\n",
      "(139370, 21)\n"
     ]
    }
   ],
   "source": [
    "import re\n",
    "\n",
    "def camel_to_snake(name):\n",
    "    # Replace lowercase-uppercase transitions with underscores\n",
    "    name = re.sub(r'(?<=[a-z])(?=[A-Z])', '_', name)\n",
    "    return name.lower()\n",
    "\n",
    "# clean column names, make all lowercase and convert to snake_case\n",
    "print(combined_df.shape)\n",
    "combined_df.columns = combined_df.columns.map(camel_to_snake)\n",
    "\n",
    "# create new column of date dtype for 'lpep_pickup_date' from 'lpep_pickup_datetime'\n",
    "combined_df['lpep_pickup_date'] = combined_df['lpep_pickup_datetime'].dt.date\n",
    "\n",
    "# drop records of rides with no passengers\n",
    "print(f\"Rows with out passengers: {combined_df['passenger_count'].fillna(0).isin([0]).sum() }\")\n",
    "combined_df = combined_df[combined_df['passenger_count'] > 0]\n",
    "\n",
    "# drop records of rides with 0 trip_distance\n",
    "print(f\"Rows with 0 trip_distance: {combined_df['trip_distance'].fillna(0).isin([0]).sum() }\")\n",
    "combined_df = combined_df[combined_df['trip_distance'] > 0]\n",
    "\n",
    "print(combined_df.shape)"
   ]
  },
  {
   "cell_type": "markdown",
   "metadata": {},
   "source": [
    "## Question 3. Data Transformation\n",
    "\n",
    "### Answer 3: `data['lpep_pickup_date'] = data['lpep_pickup_datetime'].dt.date`\n",
    "\n",
    "Which of the following creates a new column `lpep_pickup_date` by converting `lpep_pickup_datetime` to a date?\n",
    "\n",
    "* data = data['lpep_pickup_datetime'].date\n",
    "* data('lpep_pickup_date') = data['lpep_pickup_datetime'].date\n",
    "* data['lpep_pickup_date'] = data['lpep_pickup_datetime'].dt.date\n",
    "* data['lpep_pickup_date'] = data['lpep_pickup_datetime'].dt().date()"
   ]
  },
  {
   "cell_type": "markdown",
   "metadata": {},
   "source": [
    "## Question 4. Data Transformation\n",
    "\n",
    "### Answer 4: `1 or 2`\n",
    "\n",
    "What are the existing values of `VendorID` in the dataset?\n",
    "\n",
    "* 1, 2, or 3\n",
    "* 1 or 2\n",
    "* 1, 2, 3, 4\n",
    "* 1"
   ]
  },
  {
   "cell_type": "code",
   "execution_count": 15,
   "metadata": {},
   "outputs": [
    {
     "data": {
      "text/plain": [
       "<IntegerArray>\n",
       "[2, 1]\n",
       "Length: 2, dtype: Int64"
      ]
     },
     "execution_count": 15,
     "metadata": {},
     "output_type": "execute_result"
    }
   ],
   "source": [
    "combined_df.vendor_id.unique()"
   ]
  },
  {
   "cell_type": "code",
   "execution_count": 16,
   "metadata": {},
   "outputs": [
    {
     "data": {
      "text/plain": [
       "vendor_id\n",
       "2    117408\n",
       "1     21962\n",
       "Name: count, dtype: Int64"
      ]
     },
     "execution_count": 16,
     "metadata": {},
     "output_type": "execute_result"
    }
   ],
   "source": [
    "combined_df.vendor_id.value_counts()"
   ]
  },
  {
   "cell_type": "markdown",
   "metadata": {},
   "source": [
    "## Question 5. Data Transformation\n",
    "\n",
    "### Answer 5: `4`\n",
    "\n",
    "How many columns need to be renamed to snake case?\n",
    "\n",
    "* 3\n",
    "* 6\n",
    "* 2\n",
    "* 4"
   ]
  },
  {
   "cell_type": "code",
   "execution_count": 17,
   "metadata": {},
   "outputs": [
    {
     "data": {
      "text/plain": [
       "Index(['VendorID', 'lpep_pickup_datetime', 'lpep_dropoff_datetime',\n",
       "       'store_and_fwd_flag', 'RatecodeID', 'PULocationID', 'DOLocationID',\n",
       "       'passenger_count', 'trip_distance', 'fare_amount', 'extra', 'mta_tax',\n",
       "       'tip_amount', 'tolls_amount', 'ehail_fee', 'improvement_surcharge',\n",
       "       'total_amount', 'payment_type', 'trip_type', 'congestion_surcharge'],\n",
       "      dtype='object')"
      ]
     },
     "execution_count": 17,
     "metadata": {},
     "output_type": "execute_result"
    }
   ],
   "source": [
    "dec_2020.columns"
   ]
  },
  {
   "cell_type": "code",
   "execution_count": 18,
   "metadata": {},
   "outputs": [
    {
     "name": "stdout",
     "output_type": "stream",
     "text": [
      "4\n"
     ]
    }
   ],
   "source": [
    "camels = ['VendorID', 'RatecodeID', 'PULocationID', 'DOLocationID']\n",
    "print(len(camels))"
   ]
  },
  {
   "cell_type": "markdown",
   "metadata": {},
   "source": [
    "## Question 6. Data Exporting\n",
    "\n",
    "### Answer 6: `96`\n",
    "\n",
    "Once exported, how many partitions (folders) are present in Google Cloud?\n",
    "\n",
    "* 96\n",
    "* 56\n",
    "* 67\n",
    "* 108\n"
   ]
  },
  {
   "cell_type": "markdown",
   "metadata": {},
   "source": [
    "## Connect to BigQuery "
   ]
  },
  {
   "cell_type": "markdown",
   "metadata": {},
   "source": [
    "Note `sqlalchemy-bigquery 1.9.0` is only compatible with SQLAlchemy versions < 2.0.0. <br>\n",
    "Not worth it to downgrade?\n",
    "[source](https://pypi.org/project/sqlalchemy-bigquery/)\n",
    "\n",
    "[google-cloud-python](https://github.com/googleapis/google-cloud-python/tree/main)\n",
    "\n",
    "[run-google-bigquery-sql-with-vscode](https://developers.lseg.com/en/article-catalog/article/run-google-bigquery-sql-with-vscode)\n",
    "\n",
    "[pandas-gbq alternative to google.cloud](https://pandas-gbq.readthedocs.io/en/latest/)"
   ]
  },
  {
   "cell_type": "code",
   "execution_count": 5,
   "metadata": {},
   "outputs": [
    {
     "name": "stdout",
     "output_type": "stream",
     "text": [
      "Name: SQLAlchemy\n",
      "Version: 2.0.25\n",
      "Summary: Database Abstraction Library\n",
      "Home-page: https://www.sqlalchemy.org\n",
      "Author: Mike Bayer\n",
      "Author-email: mike_mp@zzzcomputing.com\n",
      "License: MIT\n",
      "Location: /home/ellabelle/micromamba/envs/dezoomcamp/lib/python3.9/site-packages\n",
      "Requires: greenlet, typing-extensions\n",
      "Required-by: \n"
     ]
    }
   ],
   "source": [
    "# !pip show sqlalchemy"
   ]
  },
  {
   "cell_type": "code",
   "execution_count": 1,
   "metadata": {
    "notebookRunGroups": {
     "groupValue": "2"
    }
   },
   "outputs": [],
   "source": [
    "from google.cloud import bigquery\n",
    "client = bigquery.Client(project='nyc-rides-ella')\n",
    "import pandas as pd"
   ]
  },
  {
   "cell_type": "markdown",
   "metadata": {},
   "source": [
    "### Yellow_cab_data"
   ]
  },
  {
   "cell_type": "code",
   "execution_count": 2,
   "metadata": {
    "notebookRunGroups": {
     "groupValue": "2"
    }
   },
   "outputs": [
    {
     "data": {
      "text/plain": [
       "(36, 4)"
      ]
     },
     "execution_count": 2,
     "metadata": {},
     "output_type": "execute_result"
    }
   ],
   "source": [
    "query = \"\"\"\n",
    "    SELECT \n",
    "        date(tpep_pickup_datetime) as pickup_date, \n",
    "        SUM(passenger_count) as total_passenger_count,\n",
    "        MAX(trip_distance) as max_trip_distance,\n",
    "        COUNT(*) as number_of_trips\n",
    "    FROM nyc-rides-ella.ny_taxi.yellow_cab_data \n",
    "    GROUP BY \n",
    "        pickup_date\n",
    "    ORDER BY number_of_trips DESC\n",
    "    LIMIT 1000\n",
    "\"\"\"\n",
    "\n",
    "df_yellow = client.query(query).to_dataframe()\n",
    "df_yellow.shape\n",
    "\n",
    "# WORKS!\n",
    "# rows = client.query_and_wait(query)  # Make an API request.\n",
    "\n",
    "# print(\"The query data:\")\n",
    "# for row in rows:\n",
    "#     # Row values can be accessed by field name or index.\n",
    "#     print(\"date={}, number_of_trips={}\".format(row[0], row[\"number_of_trips\"]))"
   ]
  },
  {
   "cell_type": "code",
   "execution_count": 3,
   "metadata": {
    "notebookRunGroups": {
     "groupValue": "2"
    }
   },
   "outputs": [
    {
     "data": {
      "text/html": [
       "<div>\n",
       "<style scoped>\n",
       "    .dataframe tbody tr th:only-of-type {\n",
       "        vertical-align: middle;\n",
       "    }\n",
       "\n",
       "    .dataframe tbody tr th {\n",
       "        vertical-align: top;\n",
       "    }\n",
       "\n",
       "    .dataframe thead th {\n",
       "        text-align: right;\n",
       "    }\n",
       "</style>\n",
       "<table border=\"1\" class=\"dataframe\">\n",
       "  <thead>\n",
       "    <tr style=\"text-align: right;\">\n",
       "      <th></th>\n",
       "      <th>pickup_date</th>\n",
       "      <th>total_passenger_count</th>\n",
       "      <th>max_trip_distance</th>\n",
       "      <th>number_of_trips</th>\n",
       "    </tr>\n",
       "  </thead>\n",
       "  <tbody>\n",
       "    <tr>\n",
       "      <th>0</th>\n",
       "      <td>2021-01-28</td>\n",
       "      <td>72893</td>\n",
       "      <td>64.74</td>\n",
       "      <td>51316</td>\n",
       "    </tr>\n",
       "    <tr>\n",
       "      <th>1</th>\n",
       "      <td>2021-01-29</td>\n",
       "      <td>70458</td>\n",
       "      <td>87.70</td>\n",
       "      <td>49641</td>\n",
       "    </tr>\n",
       "    <tr>\n",
       "      <th>2</th>\n",
       "      <td>2021-01-22</td>\n",
       "      <td>70569</td>\n",
       "      <td>93.47</td>\n",
       "      <td>49258</td>\n",
       "    </tr>\n",
       "    <tr>\n",
       "      <th>3</th>\n",
       "      <td>2021-01-21</td>\n",
       "      <td>69043</td>\n",
       "      <td>111.50</td>\n",
       "      <td>48693</td>\n",
       "    </tr>\n",
       "    <tr>\n",
       "      <th>4</th>\n",
       "      <td>2021-01-14</td>\n",
       "      <td>68554</td>\n",
       "      <td>53.70</td>\n",
       "      <td>47914</td>\n",
       "    </tr>\n",
       "    <tr>\n",
       "      <th>5</th>\n",
       "      <td>2021-01-27</td>\n",
       "      <td>66532</td>\n",
       "      <td>79.00</td>\n",
       "      <td>47715</td>\n",
       "    </tr>\n",
       "    <tr>\n",
       "      <th>6</th>\n",
       "      <td>2021-01-15</td>\n",
       "      <td>68431</td>\n",
       "      <td>118.84</td>\n",
       "      <td>47707</td>\n",
       "    </tr>\n",
       "    <tr>\n",
       "      <th>7</th>\n",
       "      <td>2021-01-19</td>\n",
       "      <td>66008</td>\n",
       "      <td>260.50</td>\n",
       "      <td>46362</td>\n",
       "    </tr>\n",
       "    <tr>\n",
       "      <th>8</th>\n",
       "      <td>2021-01-13</td>\n",
       "      <td>65570</td>\n",
       "      <td>128.60</td>\n",
       "      <td>46144</td>\n",
       "    </tr>\n",
       "    <tr>\n",
       "      <th>9</th>\n",
       "      <td>2021-01-08</td>\n",
       "      <td>65307</td>\n",
       "      <td>55.42</td>\n",
       "      <td>45447</td>\n",
       "    </tr>\n",
       "    <tr>\n",
       "      <th>10</th>\n",
       "      <td>2021-01-07</td>\n",
       "      <td>64816</td>\n",
       "      <td>72.30</td>\n",
       "      <td>45224</td>\n",
       "    </tr>\n",
       "    <tr>\n",
       "      <th>11</th>\n",
       "      <td>2021-01-12</td>\n",
       "      <td>63871</td>\n",
       "      <td>90.44</td>\n",
       "      <td>45107</td>\n",
       "    </tr>\n",
       "    <tr>\n",
       "      <th>12</th>\n",
       "      <td>2021-01-20</td>\n",
       "      <td>64390</td>\n",
       "      <td>427.70</td>\n",
       "      <td>44930</td>\n",
       "    </tr>\n",
       "    <tr>\n",
       "      <th>13</th>\n",
       "      <td>2021-01-06</td>\n",
       "      <td>63460</td>\n",
       "      <td>271.40</td>\n",
       "      <td>44845</td>\n",
       "    </tr>\n",
       "    <tr>\n",
       "      <th>14</th>\n",
       "      <td>2021-01-26</td>\n",
       "      <td>60925</td>\n",
       "      <td>82.66</td>\n",
       "      <td>43192</td>\n",
       "    </tr>\n",
       "    <tr>\n",
       "      <th>15</th>\n",
       "      <td>2021-01-25</td>\n",
       "      <td>60361</td>\n",
       "      <td>270.20</td>\n",
       "      <td>42703</td>\n",
       "    </tr>\n",
       "    <tr>\n",
       "      <th>16</th>\n",
       "      <td>2021-01-05</td>\n",
       "      <td>60439</td>\n",
       "      <td>47.43</td>\n",
       "      <td>42172</td>\n",
       "    </tr>\n",
       "    <tr>\n",
       "      <th>17</th>\n",
       "      <td>2021-01-11</td>\n",
       "      <td>59907</td>\n",
       "      <td>83.98</td>\n",
       "      <td>42043</td>\n",
       "    </tr>\n",
       "    <tr>\n",
       "      <th>18</th>\n",
       "      <td>2021-01-04</td>\n",
       "      <td>57239</td>\n",
       "      <td>167.08</td>\n",
       "      <td>40014</td>\n",
       "    </tr>\n",
       "    <tr>\n",
       "      <th>19</th>\n",
       "      <td>2021-01-23</td>\n",
       "      <td>58001</td>\n",
       "      <td>70.51</td>\n",
       "      <td>39084</td>\n",
       "    </tr>\n",
       "    <tr>\n",
       "      <th>20</th>\n",
       "      <td>2021-01-09</td>\n",
       "      <td>54651</td>\n",
       "      <td>64.89</td>\n",
       "      <td>36716</td>\n",
       "    </tr>\n",
       "    <tr>\n",
       "      <th>21</th>\n",
       "      <td>2021-01-30</td>\n",
       "      <td>53511</td>\n",
       "      <td>65.40</td>\n",
       "      <td>36317</td>\n",
       "    </tr>\n",
       "    <tr>\n",
       "      <th>22</th>\n",
       "      <td>2021-01-16</td>\n",
       "      <td>53363</td>\n",
       "      <td>65.19</td>\n",
       "      <td>35715</td>\n",
       "    </tr>\n",
       "    <tr>\n",
       "      <th>23</th>\n",
       "      <td>2021-01-18</td>\n",
       "      <td>48353</td>\n",
       "      <td>153.10</td>\n",
       "      <td>33804</td>\n",
       "    </tr>\n",
       "    <tr>\n",
       "      <th>24</th>\n",
       "      <td>2021-01-02</td>\n",
       "      <td>48178</td>\n",
       "      <td>50.51</td>\n",
       "      <td>31753</td>\n",
       "    </tr>\n",
       "    <tr>\n",
       "      <th>25</th>\n",
       "      <td>2021-01-17</td>\n",
       "      <td>43792</td>\n",
       "      <td>72.40</td>\n",
       "      <td>29504</td>\n",
       "    </tr>\n",
       "    <tr>\n",
       "      <th>26</th>\n",
       "      <td>2021-01-31</td>\n",
       "      <td>41869</td>\n",
       "      <td>114328.20</td>\n",
       "      <td>28691</td>\n",
       "    </tr>\n",
       "    <tr>\n",
       "      <th>27</th>\n",
       "      <td>2021-01-24</td>\n",
       "      <td>42477</td>\n",
       "      <td>114.02</td>\n",
       "      <td>28648</td>\n",
       "    </tr>\n",
       "    <tr>\n",
       "      <th>28</th>\n",
       "      <td>2021-01-10</td>\n",
       "      <td>41012</td>\n",
       "      <td>55.59</td>\n",
       "      <td>27464</td>\n",
       "    </tr>\n",
       "    <tr>\n",
       "      <th>29</th>\n",
       "      <td>2021-01-03</td>\n",
       "      <td>35518</td>\n",
       "      <td>267.70</td>\n",
       "      <td>24064</td>\n",
       "    </tr>\n",
       "    <tr>\n",
       "      <th>30</th>\n",
       "      <td>2021-01-01</td>\n",
       "      <td>35080</td>\n",
       "      <td>45.92</td>\n",
       "      <td>22476</td>\n",
       "    </tr>\n",
       "    <tr>\n",
       "      <th>31</th>\n",
       "      <td>2020-12-31</td>\n",
       "      <td>17</td>\n",
       "      <td>17.96</td>\n",
       "      <td>16</td>\n",
       "    </tr>\n",
       "    <tr>\n",
       "      <th>32</th>\n",
       "      <td>2021-02-01</td>\n",
       "      <td>5</td>\n",
       "      <td>1.68</td>\n",
       "      <td>3</td>\n",
       "    </tr>\n",
       "    <tr>\n",
       "      <th>33</th>\n",
       "      <td>2009-01-01</td>\n",
       "      <td>8</td>\n",
       "      <td>4.09</td>\n",
       "      <td>3</td>\n",
       "    </tr>\n",
       "    <tr>\n",
       "      <th>34</th>\n",
       "      <td>2021-02-22</td>\n",
       "      <td>1</td>\n",
       "      <td>0.72</td>\n",
       "      <td>1</td>\n",
       "    </tr>\n",
       "    <tr>\n",
       "      <th>35</th>\n",
       "      <td>2008-12-31</td>\n",
       "      <td>1</td>\n",
       "      <td>0.00</td>\n",
       "      <td>1</td>\n",
       "    </tr>\n",
       "  </tbody>\n",
       "</table>\n",
       "</div>"
      ],
      "text/plain": [
       "   pickup_date  total_passenger_count  max_trip_distance  number_of_trips\n",
       "0   2021-01-28                  72893              64.74            51316\n",
       "1   2021-01-29                  70458              87.70            49641\n",
       "2   2021-01-22                  70569              93.47            49258\n",
       "3   2021-01-21                  69043             111.50            48693\n",
       "4   2021-01-14                  68554              53.70            47914\n",
       "5   2021-01-27                  66532              79.00            47715\n",
       "6   2021-01-15                  68431             118.84            47707\n",
       "7   2021-01-19                  66008             260.50            46362\n",
       "8   2021-01-13                  65570             128.60            46144\n",
       "9   2021-01-08                  65307              55.42            45447\n",
       "10  2021-01-07                  64816              72.30            45224\n",
       "11  2021-01-12                  63871              90.44            45107\n",
       "12  2021-01-20                  64390             427.70            44930\n",
       "13  2021-01-06                  63460             271.40            44845\n",
       "14  2021-01-26                  60925              82.66            43192\n",
       "15  2021-01-25                  60361             270.20            42703\n",
       "16  2021-01-05                  60439              47.43            42172\n",
       "17  2021-01-11                  59907              83.98            42043\n",
       "18  2021-01-04                  57239             167.08            40014\n",
       "19  2021-01-23                  58001              70.51            39084\n",
       "20  2021-01-09                  54651              64.89            36716\n",
       "21  2021-01-30                  53511              65.40            36317\n",
       "22  2021-01-16                  53363              65.19            35715\n",
       "23  2021-01-18                  48353             153.10            33804\n",
       "24  2021-01-02                  48178              50.51            31753\n",
       "25  2021-01-17                  43792              72.40            29504\n",
       "26  2021-01-31                  41869          114328.20            28691\n",
       "27  2021-01-24                  42477             114.02            28648\n",
       "28  2021-01-10                  41012              55.59            27464\n",
       "29  2021-01-03                  35518             267.70            24064\n",
       "30  2021-01-01                  35080              45.92            22476\n",
       "31  2020-12-31                     17              17.96               16\n",
       "32  2021-02-01                      5               1.68                3\n",
       "33  2009-01-01                      8               4.09                3\n",
       "34  2021-02-22                      1               0.72                1\n",
       "35  2008-12-31                      1               0.00                1"
      ]
     },
     "execution_count": 3,
     "metadata": {},
     "output_type": "execute_result"
    }
   ],
   "source": [
    "df_yellow"
   ]
  },
  {
   "cell_type": "markdown",
   "metadata": {},
   "source": [
    "### green_taxi"
   ]
  },
  {
   "cell_type": "code",
   "execution_count": 7,
   "metadata": {},
   "outputs": [
    {
     "data": {
      "text/plain": [
       "(10, 21)"
      ]
     },
     "execution_count": 7,
     "metadata": {},
     "output_type": "execute_result"
    }
   ],
   "source": [
    "from google.cloud import bigquery\n",
    "client = bigquery.Client(project='nyc-rides-ella')\n",
    "import pandas as pd\n",
    "\n",
    "query = \"\"\"\n",
    "    SELECT \n",
    "        *\n",
    "    FROM nyc-rides-ella.mage.green_taxi\n",
    "    LIMIT 10\n",
    "\"\"\"\n",
    "df_green = client.query(query).to_dataframe()\n",
    "df_green.shape"
   ]
  },
  {
   "cell_type": "code",
   "execution_count": 16,
   "metadata": {
    "notebookRunGroups": {
     "groupValue": "2"
    }
   },
   "outputs": [
    {
     "data": {
      "text/plain": [
       "(6, 3)"
      ]
     },
     "execution_count": 16,
     "metadata": {},
     "output_type": "execute_result"
    }
   ],
   "source": [
    "query = \"\"\"\n",
    "    SELECT \n",
    "        EXTRACT(YEAR FROM lpep_pickup_datetime) AS Year,\n",
    "        EXTRACT(MONTH FROM lpep_pickup_datetime) AS Month,\n",
    "        COUNT(*) as number_of_trips\n",
    "    FROM nyc-rides-ella.mage.green_taxi\n",
    "    GROUP BY Year, Month\n",
    "    ORDER BY\n",
    "        number_of_trips DESC\n",
    "\"\"\"\n",
    "df_green = client.query(query).to_dataframe()\n",
    "df_green.shape\n"
   ]
  },
  {
   "cell_type": "code",
   "execution_count": 17,
   "metadata": {},
   "outputs": [
    {
     "data": {
      "text/html": [
       "<div>\n",
       "<style scoped>\n",
       "    .dataframe tbody tr th:only-of-type {\n",
       "        vertical-align: middle;\n",
       "    }\n",
       "\n",
       "    .dataframe tbody tr th {\n",
       "        vertical-align: top;\n",
       "    }\n",
       "\n",
       "    .dataframe thead th {\n",
       "        text-align: right;\n",
       "    }\n",
       "</style>\n",
       "<table border=\"1\" class=\"dataframe\">\n",
       "  <thead>\n",
       "    <tr style=\"text-align: right;\">\n",
       "      <th></th>\n",
       "      <th>Year</th>\n",
       "      <th>Month</th>\n",
       "      <th>number_of_trips</th>\n",
       "    </tr>\n",
       "  </thead>\n",
       "  <tbody>\n",
       "    <tr>\n",
       "      <th>0</th>\n",
       "      <td>2020</td>\n",
       "      <td>10</td>\n",
       "      <td>49263</td>\n",
       "    </tr>\n",
       "    <tr>\n",
       "      <th>1</th>\n",
       "      <td>2020</td>\n",
       "      <td>11</td>\n",
       "      <td>45874</td>\n",
       "    </tr>\n",
       "    <tr>\n",
       "      <th>2</th>\n",
       "      <td>2020</td>\n",
       "      <td>12</td>\n",
       "      <td>44229</td>\n",
       "    </tr>\n",
       "    <tr>\n",
       "      <th>3</th>\n",
       "      <td>2020</td>\n",
       "      <td>9</td>\n",
       "      <td>2</td>\n",
       "    </tr>\n",
       "    <tr>\n",
       "      <th>4</th>\n",
       "      <td>2021</td>\n",
       "      <td>1</td>\n",
       "      <td>1</td>\n",
       "    </tr>\n",
       "    <tr>\n",
       "      <th>5</th>\n",
       "      <td>2009</td>\n",
       "      <td>1</td>\n",
       "      <td>1</td>\n",
       "    </tr>\n",
       "  </tbody>\n",
       "</table>\n",
       "</div>"
      ],
      "text/plain": [
       "   Year  Month  number_of_trips\n",
       "0  2020     10            49263\n",
       "1  2020     11            45874\n",
       "2  2020     12            44229\n",
       "3  2020      9                2\n",
       "4  2021      1                1\n",
       "5  2009      1                1"
      ]
     },
     "execution_count": 17,
     "metadata": {},
     "output_type": "execute_result"
    }
   ],
   "source": [
    "df_green"
   ]
  },
  {
   "cell_type": "markdown",
   "metadata": {},
   "source": [
    "Weird outliers/wrong-data there (a trip from `2009`!). Need more cleanup before going forward.\n",
    "\n",
    "\n",
    "## Verify all answers from direct BigQuery queries\n",
    "\n",
    "### Qn 1\n",
    "\n",
    "This is only visible from Pipeline  run of `load_data_from_api` DATA LOADER\n",
    "\n",
    "### Qn 2"
   ]
  },
  {
   "cell_type": "code",
   "execution_count": 18,
   "metadata": {},
   "outputs": [
    {
     "data": {
      "text/plain": [
       "(139370, 21)"
      ]
     },
     "execution_count": 18,
     "metadata": {},
     "output_type": "execute_result"
    }
   ],
   "source": [
    "query = \"\"\"\n",
    "    SELECT  *\n",
    "    FROM nyc-rides-ella.mage.green_taxi\n",
    "\"\"\"\n",
    "df_green = client.query(query).to_dataframe()\n",
    "df_green.shape"
   ]
  },
  {
   "cell_type": "markdown",
   "metadata": {},
   "source": [
    "All other questions are not reliant on SQL querying of the database, after all."
   ]
  }
 ],
 "metadata": {
  "kernelspec": {
   "display_name": "Python 3",
   "language": "python",
   "name": "python3"
  },
  "language_info": {
   "codemirror_mode": {
    "name": "ipython",
    "version": 3
   },
   "file_extension": ".py",
   "mimetype": "text/x-python",
   "name": "python",
   "nbconvert_exporter": "python",
   "pygments_lexer": "ipython3",
   "version": "3.9.18"
  }
 },
 "nbformat": 4,
 "nbformat_minor": 2
}
