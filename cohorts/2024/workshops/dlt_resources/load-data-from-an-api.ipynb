{
 "cells": [
  {
   "cell_type": "markdown",
   "metadata": {},
   "source": [
    "Tutorial from official dlthub docs [load-data-from-an-api](https://dlthub.com/docs/tutorial/load-data-from-an-api)"
   ]
  },
  {
   "cell_type": "code",
   "execution_count": null,
   "metadata": {},
   "outputs": [],
   "source": [
    "import dlt\n",
    "from dlt.sources.helpers import requests\n",
    "\n",
    "# Specify the URL of the API endpoint\n",
    "url = \"https://api.github.com/repos/dlt-hub/dlt/issues\"\n",
    "# Make a request and check if it was successful\n",
    "response = requests.get(url)\n",
    "response.raise_for_status()\n",
    "\n",
    "pipeline = dlt.pipeline(\n",
    "    pipeline_name=\"github_issues\",\n",
    "    destination=\"duckdb\",\n",
    "    dataset_name=\"github_data\",\n",
    ")\n",
    "# The response contains a list of issues\n",
    "load_info = pipeline.run(response.json(), table_name=\"issues\")\n",
    "\n",
    "print(load_info)"
   ]
  },
  {
   "cell_type": "code",
   "execution_count": null,
   "metadata": {},
   "outputs": [],
   "source": []
  }
 ],
 "metadata": {
  "language_info": {
   "name": "python"
  }
 },
 "nbformat": 4,
 "nbformat_minor": 2
}
