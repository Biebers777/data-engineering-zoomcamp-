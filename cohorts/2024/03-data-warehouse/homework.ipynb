{
 "cells": [
  {
   "cell_type": "markdown",
   "metadata": {},
   "source": [
    "# Week 3 Homework\n",
    "ATTENTION: At the end of the submission form, you will be required to include a link to your GitHub repository or other public code-hosting site. This repository should contain your code for solving the homework. If your solution includes code that is not in file format (such as SQL queries or shell commands), please include these directly in the README file of your repository.\n",
    "\n",
    "> [!IMPORTANT]\n",
    "> For this homework we will be using the 2022 Green Taxi Trip Record Parquet Files from the New York\n",
    "City Taxi Data found here: \n",
    "> https://www.nyc.gov/site/tlc/about/tlc-trip-record-data.page \n",
    ">\n",
    "> If you are using orchestration such as Mage, Airflow or Prefect do not load the data into Big Query using the orchestrator.\n",
    "> Stop with loading the files into a bucket.\n",
    "\n",
    "> [!NOTE]\n",
    "> You will need to use the PARQUET option files when creating an External Table=\n",
    "\n",
    "\n",
    "> [!INFO]\n",
    "> \n",
    "> <b>SETUP:</b>\n",
    "> \n",
    "> Create an external table using the Green Taxi Trip Records Data for 2022. \n",
    "> Create a table in BQ using the Green Taxi Trip Records for 2022 (do not partition or cluster this table). "
   ]
  },
  {
   "cell_type": "code",
   "execution_count": null,
   "metadata": {},
   "outputs": [],
   "source": []
  },
  {
   "cell_type": "markdown",
   "metadata": {},
   "source": [
    "## Question 1: count of records\n",
    "\n",
    "What is count of records for the 2022 Green Taxi Data??\n",
    "\n",
    "### Answer 1: ``\n",
    "\n",
    "- 65,623,481\n",
    "- 840,402\n",
    "- 1,936,423\n",
    "- 253,647"
   ]
  },
  {
   "cell_type": "code",
   "execution_count": null,
   "metadata": {},
   "outputs": [],
   "source": []
  },
  {
   "cell_type": "markdown",
   "metadata": {},
   "source": [
    "## Question 2: estimated data amount\n",
    "\n",
    "### Answer 2: ``\n",
    "\n",
    "Write a query to count the distinct number of PULocationIDs for the entire dataset on both the tables.</br> \n",
    "What is the estimated amount of data that will be read when this query is executed on the External Table and the Table?\n",
    "\n",
    "- 0 MB for the External Table and 6.41MB for the Materialized Table\n",
    "- 18.82 MB for the External Table and 47.60 MB for the Materialized Table\n",
    "- 0 MB for the External Table and 0MB for the Materialized Table\n",
    "- 2.14 MB for the External Table and 0MB for the Materialized Table"
   ]
  },
  {
   "cell_type": "code",
   "execution_count": null,
   "metadata": {},
   "outputs": [],
   "source": []
  },
  {
   "cell_type": "markdown",
   "metadata": {},
   "source": [
    "## Question 3:\n",
    "### Answer 3: ``\n",
    "How many records have a fare_amount of 0?\n",
    "- 12,488\n",
    "- 128,219\n",
    "- 112\n",
    "- 1,622"
   ]
  },
  {
   "cell_type": "code",
   "execution_count": null,
   "metadata": {},
   "outputs": [],
   "source": []
  },
  {
   "cell_type": "markdown",
   "metadata": {},
   "source": [
    "## Question 4:\n",
    "### Answer 4: ``\n",
    "\n",
    "What is the best strategy to make an optimized table in Big Query if your query will always order the results by PUlocationID and filter based on lpep_pickup_datetime? (Create a new table with this strategy)\n",
    "\n",
    "- Cluster on lpep_pickup_datetime Partition by PUlocationID\n",
    "- Partition by lpep_pickup_datetime  Cluster on PUlocationID\n",
    "- Partition by lpep_pickup_datetime and Partition by PUlocationID\n",
    "- Cluster on by lpep_pickup_datetime and Cluster on PUlocationID"
   ]
  },
  {
   "cell_type": "code",
   "execution_count": null,
   "metadata": {},
   "outputs": [],
   "source": []
  },
  {
   "cell_type": "markdown",
   "metadata": {},
   "source": [
    "## Question 5:\n",
    "### Answer 5: ``\n",
    "\n",
    "Write a query to retrieve the distinct PULocationID between lpep_pickup_datetime\n",
    "06/01/2022 and 06/30/2022 (inclusive)</br>\n",
    "\n",
    "Use the materialized table you created earlier in your from clause and note the estimated bytes. Now change the table in the from clause to the partitioned table you created for question 4 and note the estimated bytes processed. What are these values? </br>\n",
    "\n",
    "Choose the answer which most closely matches.</br> \n",
    "\n",
    "- 22.82 MB for non-partitioned table and 647.87 MB for the partitioned table\n",
    "- 12.82 MB for non-partitioned table and 1.12 MB for the partitioned table\n",
    "- 5.63 MB for non-partitioned table and 0 MB for the partitioned table\n",
    "- 10.31 MB for non-partitioned table and 10.31 MB for the partitioned table"
   ]
  },
  {
   "cell_type": "code",
   "execution_count": null,
   "metadata": {},
   "outputs": [],
   "source": []
  },
  {
   "cell_type": "markdown",
   "metadata": {},
   "source": [
    "## Question 6: \n",
    "### Answer 6: ``\n",
    "\n",
    "Where is the data stored in the External Table you created?\n",
    "\n",
    "- Big Query\n",
    "- GCP Bucket\n",
    "- Big Table\n",
    "- Container Registry"
   ]
  },
  {
   "cell_type": "code",
   "execution_count": null,
   "metadata": {},
   "outputs": [],
   "source": []
  },
  {
   "cell_type": "markdown",
   "metadata": {},
   "source": [
    "## Question 7:\n",
    "### Answer 7: ``\n",
    "\n",
    "It is best practice in Big Query to always cluster your data:\n",
    "- True\n",
    "- False"
   ]
  },
  {
   "cell_type": "code",
   "execution_count": null,
   "metadata": {},
   "outputs": [],
   "source": []
  },
  {
   "cell_type": "markdown",
   "metadata": {},
   "source": [
    "## (Bonus: Not worth points) Question 8:\n",
    "\n",
    "No Points: Write a `SELECT count(*)` query FROM the materialized table you created. How many bytes does it estimate will be read? Why?"
   ]
  },
  {
   "cell_type": "code",
   "execution_count": null,
   "metadata": {},
   "outputs": [],
   "source": []
  },
  {
   "cell_type": "markdown",
   "metadata": {},
   "source": [
    "## Submitting the solutions\n",
    "\n",
    "* Form for submitting: https://courses.datatalks.club/de-zoomcamp-2024/homework/hw3\n"
   ]
  }
 ],
 "metadata": {
  "kernelspec": {
   "display_name": "Python 3",
   "language": "python",
   "name": "python3"
  },
  "language_info": {
   "name": "python",
   "version": "3.11.7"
  }
 },
 "nbformat": 4,
 "nbformat_minor": 2
}
