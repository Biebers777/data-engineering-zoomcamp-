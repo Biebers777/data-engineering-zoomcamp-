{
 "cells": [
  {
   "cell_type": "markdown",
   "metadata": {},
   "source": []
  },
  {
   "cell_type": "markdown",
   "metadata": {},
   "source": [
    "-- Question 3. Count records\n",
    "-- How many taxi trips were totally made on September 18th 2019?\n",
    "-- Tip: started and finished on 2019-09-18.\n",
    "-- Remember that lpep_pickup_datetime and lpep_dropoff_datetime columns are in the format timestamp (date and hour+min+sec) and not in date.\n",
    "\n",
    "select count(1) from green_taxi_data\n",
    "where cast(lpep_dropoff_datetime as date)='2019-09-18'\n",
    "and cast(lpep_pickup_datetime as date)='2019-09-18'\n"
   ]
  },
  {
   "cell_type": "markdown",
   "metadata": {},
   "source": [
    "-- Question 4. Largest trip for each day\n",
    "-- Which was the pick up day with the largest trip distance Use the pick up time for your calculations.\n",
    "-- (date and hour+min+sec) and not in date.\n",
    "\n",
    "SELECT cast(lpep_pickup_datetime as date)\n",
    "FROM green_taxi_data\n",
    "WHERE trip_distance = (\n",
    "SELECT MAX(trip_distance)\n",
    "FROM green_taxi_data\n",
    ");\n"
   ]
  },
  {
   "cell_type": "markdown",
   "metadata": {},
   "source": [
    "Question 5. Three biggest pick up Boroughs\n",
    "-- Consider lpep_pickup_datetime in '2019-09-18' and ignoring Borough has Unknown\n",
    "-- Which were the 3 pick up Boroughs that had a sum of total_amount superior to 50000?\n",
    "\n",
    "select z.\"Borough\" from green_taxi_data g join zones z on g.\"PULocationID\"=z.\"LocationID\"\n",
    "where cast(g.lpep_pickup_datetime as date)='2019-09-18'\n",
    "and z.\"Borough\" <> 'Unknown'\n",
    "group by z.\"Borough\"\n",
    "having sum(g.total_amount) > 50000\n"
   ]
  },
  {
   "cell_type": "markdown",
   "metadata": {},
   "source": [
    "Question 6. Largest tip\n",
    "-- For the passengers picked up in September 2019 in the zone name Astoria which was the drop off\n",
    "-- zone that had the largest tip?\n",
    "SELECT z1.\"Zone\"\n",
    "FROM green_taxi_data g1 join Zones z1 on z1.\"LocationID\"=g1.\"DOLocationID\"\n",
    "\n",
    "WHERE g1.tip_amount = (\n",
    "SELECT MAX(tip_amount)\n",
    "FROM green_taxi_data g2\n",
    "join Zones z2 on z2.\"LocationID\"=g2.\"PULocationID\"\n",
    "and z2.\"Zone\"='Astoria'\n",
    "and date_part('month',g2.lpep_pickup_datetime) = 9\n",
    ");\n"
   ]
  }
 ],
 "metadata": {
  "language_info": {
   "name": "python"
  }
 },
 "nbformat": 4,
 "nbformat_minor": 2
}
